{
 "cells": [
  {
   "cell_type": "code",
   "execution_count": 35,
   "id": "7fde4734-aabd-4bc0-bfed-a9a61665740d",
   "metadata": {},
   "outputs": [],
   "source": [
    "import pandas as pd\n",
    "import numpy as np\n",
    "import seaborn as sns\n",
    "import matplotlib.pyplot as plt\n",
    "import numpy as np\n",
    "from scipy import stats\n",
    "\n",
    "from sklearn.preprocessing import MinMaxScaler\n",
    "from sklearn.preprocessing import StandardScaler\n",
    "from sklearn.decomposition import PCA\n",
    "from sklearn.pipeline import Pipeline\n",
    "from sklearn.neighbors import LocalOutlierFactor\n",
    "from imblearn.over_sampling import SMOTE\n",
    "\n",
    "from sklearn.model_selection import train_test_split\n",
    "from sklearn.model_selection import RandomizedSearchCV\n",
    "\n",
    "from sklearn.linear_model import LogisticRegressionCV\n",
    "from sklearn.ensemble import RandomForestClassifier\n",
    "from sklearn.neural_network import MLPClassifier\n",
    "\n",
    "from sklearn.metrics import confusion_matrix\n",
    "from sklearn.metrics import classification_report\n",
    "import sklearn.metrics as metrics\n",
    "#from sklearn import metrics"
   ]
  },
  {
   "cell_type": "code",
   "execution_count": 2,
   "id": "ce79f1d2-509f-4cea-9d23-641fd5f9c790",
   "metadata": {},
   "outputs": [],
   "source": [
    "def plot_conf_mtx(model, X, y):\n",
    "    y_pred = model.predict(X)\n",
    "    cm = confusion_matrix(y, y_pred)\n",
    "    labels = ['No churn', 'Churn']\n",
    "    fig = plt.figure(figsize=(12,12))\n",
    "    ax = fig.add_subplot(111)\n",
    "    cax = ax.matshow(cm)\n",
    "    plt.title('Confusion matrix of the classifier')\n",
    "    fig.colorbar(cax)\n",
    "    ax.set_xticklabels([''] + labels)\n",
    "    ax.set_yticklabels([''] + labels)\n",
    "    plt.xlabel('Predicted')\n",
    "    plt.ylabel('True')\n",
    "    plt.show()\n",
    "\n",
    "def plot_roc_curve(model, X_test, y_test):\n",
    "    y_pred = model.predict(X_test)\n",
    "    print(\"Accuracy\", metrics.accuracy_score(y_test, y_pred))\n",
    "\n",
    "    y_pred_proba = model.predict_proba(X_test)[::,1]\n",
    "    fpr, tpr, _ = metrics.roc_curve(y_test,  y_pred_proba)\n",
    "    auc = metrics.roc_auc_score(y_test, y_pred_proba)\n",
    "    fig, ax = plt.subplots(figsize=(10,10))\n",
    "    plt.plot(fpr,tpr,label=\"data 1, auc=\"+str(auc))\n",
    "    plt.legend(loc=4)\n",
    "    plt.show()\n",
    "    \n",
    "    return y_pred"
   ]
  },
  {
   "cell_type": "markdown",
   "id": "e86d0350-bd39-41dd-8f1c-684ba00b90ab",
   "metadata": {},
   "source": [
    "## Data exploration and baseline model\n",
    "\n",
    "First, let's read our data into a dataframe and check the percenteage of missing values!"
   ]
  },
  {
   "cell_type": "code",
   "execution_count": 3,
   "id": "6d21d14b-6d1d-46c6-b452-c67abc5a48c3",
   "metadata": {},
   "outputs": [],
   "source": [
    "df = pd.read_csv('./telco.csv') "
   ]
  },
  {
   "cell_type": "code",
   "execution_count": 4,
   "id": "34885814-78fe-492a-8db9-87b13859359c",
   "metadata": {},
   "outputs": [
    {
     "data": {
      "text/html": [
       "<div>\n",
       "<style scoped>\n",
       "    .dataframe tbody tr th:only-of-type {\n",
       "        vertical-align: middle;\n",
       "    }\n",
       "\n",
       "    .dataframe tbody tr th {\n",
       "        vertical-align: top;\n",
       "    }\n",
       "\n",
       "    .dataframe thead th {\n",
       "        text-align: right;\n",
       "    }\n",
       "</style>\n",
       "<table border=\"1\" class=\"dataframe\">\n",
       "  <thead>\n",
       "    <tr style=\"text-align: right;\">\n",
       "      <th></th>\n",
       "      <th>region</th>\n",
       "      <th>tenure</th>\n",
       "      <th>age</th>\n",
       "      <th>marital</th>\n",
       "      <th>address</th>\n",
       "      <th>income</th>\n",
       "      <th>ed</th>\n",
       "      <th>employ</th>\n",
       "      <th>retire</th>\n",
       "      <th>gender</th>\n",
       "      <th>...</th>\n",
       "      <th>voice</th>\n",
       "      <th>pager</th>\n",
       "      <th>internet</th>\n",
       "      <th>callid</th>\n",
       "      <th>callwait</th>\n",
       "      <th>forward</th>\n",
       "      <th>confer</th>\n",
       "      <th>ebill</th>\n",
       "      <th>custcat</th>\n",
       "      <th>churn</th>\n",
       "    </tr>\n",
       "  </thead>\n",
       "  <tbody>\n",
       "    <tr>\n",
       "      <th>0</th>\n",
       "      <td>2</td>\n",
       "      <td>13</td>\n",
       "      <td>44</td>\n",
       "      <td>1</td>\n",
       "      <td>9</td>\n",
       "      <td>64.0</td>\n",
       "      <td>4</td>\n",
       "      <td>5</td>\n",
       "      <td>0.0</td>\n",
       "      <td>0</td>\n",
       "      <td>...</td>\n",
       "      <td>0</td>\n",
       "      <td>0</td>\n",
       "      <td>0</td>\n",
       "      <td>0</td>\n",
       "      <td>0</td>\n",
       "      <td>1</td>\n",
       "      <td>0</td>\n",
       "      <td>0</td>\n",
       "      <td>1</td>\n",
       "      <td>1</td>\n",
       "    </tr>\n",
       "    <tr>\n",
       "      <th>1</th>\n",
       "      <td>3</td>\n",
       "      <td>11</td>\n",
       "      <td>33</td>\n",
       "      <td>1</td>\n",
       "      <td>7</td>\n",
       "      <td>136.0</td>\n",
       "      <td>5</td>\n",
       "      <td>5</td>\n",
       "      <td>0.0</td>\n",
       "      <td>0</td>\n",
       "      <td>...</td>\n",
       "      <td>1</td>\n",
       "      <td>1</td>\n",
       "      <td>0</td>\n",
       "      <td>1</td>\n",
       "      <td>1</td>\n",
       "      <td>1</td>\n",
       "      <td>1</td>\n",
       "      <td>0</td>\n",
       "      <td>4</td>\n",
       "      <td>1</td>\n",
       "    </tr>\n",
       "    <tr>\n",
       "      <th>2</th>\n",
       "      <td>3</td>\n",
       "      <td>68</td>\n",
       "      <td>52</td>\n",
       "      <td>1</td>\n",
       "      <td>24</td>\n",
       "      <td>116.0</td>\n",
       "      <td>1</td>\n",
       "      <td>29</td>\n",
       "      <td>0.0</td>\n",
       "      <td>1</td>\n",
       "      <td>...</td>\n",
       "      <td>0</td>\n",
       "      <td>0</td>\n",
       "      <td>0</td>\n",
       "      <td>1</td>\n",
       "      <td>1</td>\n",
       "      <td>0</td>\n",
       "      <td>1</td>\n",
       "      <td>0</td>\n",
       "      <td>3</td>\n",
       "      <td>0</td>\n",
       "    </tr>\n",
       "    <tr>\n",
       "      <th>3</th>\n",
       "      <td>2</td>\n",
       "      <td>33</td>\n",
       "      <td>33</td>\n",
       "      <td>0</td>\n",
       "      <td>12</td>\n",
       "      <td>33.0</td>\n",
       "      <td>2</td>\n",
       "      <td>0</td>\n",
       "      <td>0.0</td>\n",
       "      <td>1</td>\n",
       "      <td>...</td>\n",
       "      <td>0</td>\n",
       "      <td>0</td>\n",
       "      <td>0</td>\n",
       "      <td>0</td>\n",
       "      <td>0</td>\n",
       "      <td>0</td>\n",
       "      <td>0</td>\n",
       "      <td>0</td>\n",
       "      <td>1</td>\n",
       "      <td>1</td>\n",
       "    </tr>\n",
       "    <tr>\n",
       "      <th>4</th>\n",
       "      <td>2</td>\n",
       "      <td>23</td>\n",
       "      <td>30</td>\n",
       "      <td>1</td>\n",
       "      <td>9</td>\n",
       "      <td>30.0</td>\n",
       "      <td>1</td>\n",
       "      <td>2</td>\n",
       "      <td>0.0</td>\n",
       "      <td>0</td>\n",
       "      <td>...</td>\n",
       "      <td>0</td>\n",
       "      <td>0</td>\n",
       "      <td>0</td>\n",
       "      <td>1</td>\n",
       "      <td>0</td>\n",
       "      <td>1</td>\n",
       "      <td>1</td>\n",
       "      <td>0</td>\n",
       "      <td>3</td>\n",
       "      <td>0</td>\n",
       "    </tr>\n",
       "    <tr>\n",
       "      <th>...</th>\n",
       "      <td>...</td>\n",
       "      <td>...</td>\n",
       "      <td>...</td>\n",
       "      <td>...</td>\n",
       "      <td>...</td>\n",
       "      <td>...</td>\n",
       "      <td>...</td>\n",
       "      <td>...</td>\n",
       "      <td>...</td>\n",
       "      <td>...</td>\n",
       "      <td>...</td>\n",
       "      <td>...</td>\n",
       "      <td>...</td>\n",
       "      <td>...</td>\n",
       "      <td>...</td>\n",
       "      <td>...</td>\n",
       "      <td>...</td>\n",
       "      <td>...</td>\n",
       "      <td>...</td>\n",
       "      <td>...</td>\n",
       "      <td>...</td>\n",
       "    </tr>\n",
       "    <tr>\n",
       "      <th>995</th>\n",
       "      <td>3</td>\n",
       "      <td>10</td>\n",
       "      <td>39</td>\n",
       "      <td>0</td>\n",
       "      <td>0</td>\n",
       "      <td>27.0</td>\n",
       "      <td>3</td>\n",
       "      <td>0</td>\n",
       "      <td>0.0</td>\n",
       "      <td>1</td>\n",
       "      <td>...</td>\n",
       "      <td>0</td>\n",
       "      <td>0</td>\n",
       "      <td>0</td>\n",
       "      <td>0</td>\n",
       "      <td>0</td>\n",
       "      <td>0</td>\n",
       "      <td>0</td>\n",
       "      <td>1</td>\n",
       "      <td>1</td>\n",
       "      <td>0</td>\n",
       "    </tr>\n",
       "    <tr>\n",
       "      <th>996</th>\n",
       "      <td>1</td>\n",
       "      <td>7</td>\n",
       "      <td>34</td>\n",
       "      <td>0</td>\n",
       "      <td>2</td>\n",
       "      <td>22.0</td>\n",
       "      <td>5</td>\n",
       "      <td>5</td>\n",
       "      <td>0.0</td>\n",
       "      <td>1</td>\n",
       "      <td>...</td>\n",
       "      <td>0</td>\n",
       "      <td>0</td>\n",
       "      <td>0</td>\n",
       "      <td>0</td>\n",
       "      <td>0</td>\n",
       "      <td>0</td>\n",
       "      <td>0</td>\n",
       "      <td>0</td>\n",
       "      <td>1</td>\n",
       "      <td>0</td>\n",
       "    </tr>\n",
       "    <tr>\n",
       "      <th>997</th>\n",
       "      <td>3</td>\n",
       "      <td>67</td>\n",
       "      <td>59</td>\n",
       "      <td>0</td>\n",
       "      <td>40</td>\n",
       "      <td>944.0</td>\n",
       "      <td>5</td>\n",
       "      <td>33</td>\n",
       "      <td>0.0</td>\n",
       "      <td>1</td>\n",
       "      <td>...</td>\n",
       "      <td>1</td>\n",
       "      <td>1</td>\n",
       "      <td>1</td>\n",
       "      <td>1</td>\n",
       "      <td>1</td>\n",
       "      <td>1</td>\n",
       "      <td>1</td>\n",
       "      <td>1</td>\n",
       "      <td>4</td>\n",
       "      <td>0</td>\n",
       "    </tr>\n",
       "    <tr>\n",
       "      <th>998</th>\n",
       "      <td>3</td>\n",
       "      <td>70</td>\n",
       "      <td>49</td>\n",
       "      <td>0</td>\n",
       "      <td>18</td>\n",
       "      <td>87.0</td>\n",
       "      <td>2</td>\n",
       "      <td>22</td>\n",
       "      <td>0.0</td>\n",
       "      <td>1</td>\n",
       "      <td>...</td>\n",
       "      <td>1</td>\n",
       "      <td>0</td>\n",
       "      <td>0</td>\n",
       "      <td>1</td>\n",
       "      <td>1</td>\n",
       "      <td>1</td>\n",
       "      <td>1</td>\n",
       "      <td>0</td>\n",
       "      <td>3</td>\n",
       "      <td>0</td>\n",
       "    </tr>\n",
       "    <tr>\n",
       "      <th>999</th>\n",
       "      <td>3</td>\n",
       "      <td>50</td>\n",
       "      <td>36</td>\n",
       "      <td>1</td>\n",
       "      <td>7</td>\n",
       "      <td>39.0</td>\n",
       "      <td>3</td>\n",
       "      <td>3</td>\n",
       "      <td>0.0</td>\n",
       "      <td>1</td>\n",
       "      <td>...</td>\n",
       "      <td>0</td>\n",
       "      <td>0</td>\n",
       "      <td>1</td>\n",
       "      <td>0</td>\n",
       "      <td>0</td>\n",
       "      <td>0</td>\n",
       "      <td>0</td>\n",
       "      <td>1</td>\n",
       "      <td>2</td>\n",
       "      <td>1</td>\n",
       "    </tr>\n",
       "  </tbody>\n",
       "</table>\n",
       "<p>1000 rows × 36 columns</p>\n",
       "</div>"
      ],
      "text/plain": [
       "     region  tenure  age  marital  address  income  ed  employ  retire  \\\n",
       "0         2      13   44        1        9    64.0   4       5     0.0   \n",
       "1         3      11   33        1        7   136.0   5       5     0.0   \n",
       "2         3      68   52        1       24   116.0   1      29     0.0   \n",
       "3         2      33   33        0       12    33.0   2       0     0.0   \n",
       "4         2      23   30        1        9    30.0   1       2     0.0   \n",
       "..      ...     ...  ...      ...      ...     ...  ..     ...     ...   \n",
       "995       3      10   39        0        0    27.0   3       0     0.0   \n",
       "996       1       7   34        0        2    22.0   5       5     0.0   \n",
       "997       3      67   59        0       40   944.0   5      33     0.0   \n",
       "998       3      70   49        0       18    87.0   2      22     0.0   \n",
       "999       3      50   36        1        7    39.0   3       3     0.0   \n",
       "\n",
       "     gender  ...  voice  pager  internet  callid  callwait  forward  confer  \\\n",
       "0         0  ...      0      0         0       0         0        1       0   \n",
       "1         0  ...      1      1         0       1         1        1       1   \n",
       "2         1  ...      0      0         0       1         1        0       1   \n",
       "3         1  ...      0      0         0       0         0        0       0   \n",
       "4         0  ...      0      0         0       1         0        1       1   \n",
       "..      ...  ...    ...    ...       ...     ...       ...      ...     ...   \n",
       "995       1  ...      0      0         0       0         0        0       0   \n",
       "996       1  ...      0      0         0       0         0        0       0   \n",
       "997       1  ...      1      1         1       1         1        1       1   \n",
       "998       1  ...      1      0         0       1         1        1       1   \n",
       "999       1  ...      0      0         1       0         0        0       0   \n",
       "\n",
       "     ebill  custcat  churn  \n",
       "0        0        1      1  \n",
       "1        0        4      1  \n",
       "2        0        3      0  \n",
       "3        0        1      1  \n",
       "4        0        3      0  \n",
       "..     ...      ...    ...  \n",
       "995      1        1      0  \n",
       "996      0        1      0  \n",
       "997      1        4      0  \n",
       "998      0        3      0  \n",
       "999      1        2      1  \n",
       "\n",
       "[1000 rows x 36 columns]"
      ]
     },
     "execution_count": 4,
     "metadata": {},
     "output_type": "execute_result"
    }
   ],
   "source": [
    "df"
   ]
  },
  {
   "cell_type": "code",
   "execution_count": 5,
   "id": "c4b31b41-c98b-4f87-b893-fd21b1067e99",
   "metadata": {},
   "outputs": [
    {
     "data": {
      "text/plain": [
       "Index(['region', 'tenure', 'age', 'marital', 'address', 'income', 'ed',\n",
       "       'employ', 'retire', 'gender', 'reside', 'tollfree', 'equip', 'callcard',\n",
       "       'wireless', 'longmon', 'tollmon', 'equipmon', 'cardmon', 'wiremon',\n",
       "       'longten', 'tollten', 'equipten', 'cardten', 'wireten', 'multline',\n",
       "       'voice', 'pager', 'internet', 'callid', 'callwait', 'forward', 'confer',\n",
       "       'ebill', 'custcat', 'churn'],\n",
       "      dtype='object')"
      ]
     },
     "execution_count": 5,
     "metadata": {},
     "output_type": "execute_result"
    }
   ],
   "source": [
    "df.columns"
   ]
  },
  {
   "cell_type": "code",
   "execution_count": 6,
   "id": "8761aa57-00d3-4f44-b046-e04dfea398c1",
   "metadata": {},
   "outputs": [
    {
     "data": {
      "text/html": [
       "<div>\n",
       "<style scoped>\n",
       "    .dataframe tbody tr th:only-of-type {\n",
       "        vertical-align: middle;\n",
       "    }\n",
       "\n",
       "    .dataframe tbody tr th {\n",
       "        vertical-align: top;\n",
       "    }\n",
       "\n",
       "    .dataframe thead th {\n",
       "        text-align: right;\n",
       "    }\n",
       "</style>\n",
       "<table border=\"1\" class=\"dataframe\">\n",
       "  <thead>\n",
       "    <tr style=\"text-align: right;\">\n",
       "      <th></th>\n",
       "      <th>column_name</th>\n",
       "      <th>percent_missing</th>\n",
       "    </tr>\n",
       "  </thead>\n",
       "  <tbody>\n",
       "    <tr>\n",
       "      <th>region</th>\n",
       "      <td>region</td>\n",
       "      <td>0.0</td>\n",
       "    </tr>\n",
       "    <tr>\n",
       "      <th>tenure</th>\n",
       "      <td>tenure</td>\n",
       "      <td>0.0</td>\n",
       "    </tr>\n",
       "    <tr>\n",
       "      <th>age</th>\n",
       "      <td>age</td>\n",
       "      <td>0.0</td>\n",
       "    </tr>\n",
       "    <tr>\n",
       "      <th>marital</th>\n",
       "      <td>marital</td>\n",
       "      <td>0.0</td>\n",
       "    </tr>\n",
       "    <tr>\n",
       "      <th>address</th>\n",
       "      <td>address</td>\n",
       "      <td>0.0</td>\n",
       "    </tr>\n",
       "    <tr>\n",
       "      <th>income</th>\n",
       "      <td>income</td>\n",
       "      <td>0.0</td>\n",
       "    </tr>\n",
       "    <tr>\n",
       "      <th>ed</th>\n",
       "      <td>ed</td>\n",
       "      <td>0.0</td>\n",
       "    </tr>\n",
       "    <tr>\n",
       "      <th>employ</th>\n",
       "      <td>employ</td>\n",
       "      <td>0.0</td>\n",
       "    </tr>\n",
       "    <tr>\n",
       "      <th>retire</th>\n",
       "      <td>retire</td>\n",
       "      <td>0.0</td>\n",
       "    </tr>\n",
       "    <tr>\n",
       "      <th>gender</th>\n",
       "      <td>gender</td>\n",
       "      <td>0.0</td>\n",
       "    </tr>\n",
       "    <tr>\n",
       "      <th>reside</th>\n",
       "      <td>reside</td>\n",
       "      <td>0.0</td>\n",
       "    </tr>\n",
       "    <tr>\n",
       "      <th>tollfree</th>\n",
       "      <td>tollfree</td>\n",
       "      <td>0.0</td>\n",
       "    </tr>\n",
       "    <tr>\n",
       "      <th>equip</th>\n",
       "      <td>equip</td>\n",
       "      <td>0.0</td>\n",
       "    </tr>\n",
       "    <tr>\n",
       "      <th>callcard</th>\n",
       "      <td>callcard</td>\n",
       "      <td>0.0</td>\n",
       "    </tr>\n",
       "    <tr>\n",
       "      <th>wireless</th>\n",
       "      <td>wireless</td>\n",
       "      <td>0.0</td>\n",
       "    </tr>\n",
       "    <tr>\n",
       "      <th>longmon</th>\n",
       "      <td>longmon</td>\n",
       "      <td>0.0</td>\n",
       "    </tr>\n",
       "    <tr>\n",
       "      <th>tollmon</th>\n",
       "      <td>tollmon</td>\n",
       "      <td>0.0</td>\n",
       "    </tr>\n",
       "    <tr>\n",
       "      <th>equipmon</th>\n",
       "      <td>equipmon</td>\n",
       "      <td>0.0</td>\n",
       "    </tr>\n",
       "    <tr>\n",
       "      <th>cardmon</th>\n",
       "      <td>cardmon</td>\n",
       "      <td>0.0</td>\n",
       "    </tr>\n",
       "    <tr>\n",
       "      <th>wiremon</th>\n",
       "      <td>wiremon</td>\n",
       "      <td>0.0</td>\n",
       "    </tr>\n",
       "    <tr>\n",
       "      <th>longten</th>\n",
       "      <td>longten</td>\n",
       "      <td>0.0</td>\n",
       "    </tr>\n",
       "    <tr>\n",
       "      <th>tollten</th>\n",
       "      <td>tollten</td>\n",
       "      <td>0.0</td>\n",
       "    </tr>\n",
       "    <tr>\n",
       "      <th>equipten</th>\n",
       "      <td>equipten</td>\n",
       "      <td>0.0</td>\n",
       "    </tr>\n",
       "    <tr>\n",
       "      <th>cardten</th>\n",
       "      <td>cardten</td>\n",
       "      <td>0.0</td>\n",
       "    </tr>\n",
       "    <tr>\n",
       "      <th>wireten</th>\n",
       "      <td>wireten</td>\n",
       "      <td>0.0</td>\n",
       "    </tr>\n",
       "    <tr>\n",
       "      <th>multline</th>\n",
       "      <td>multline</td>\n",
       "      <td>0.0</td>\n",
       "    </tr>\n",
       "    <tr>\n",
       "      <th>voice</th>\n",
       "      <td>voice</td>\n",
       "      <td>0.0</td>\n",
       "    </tr>\n",
       "    <tr>\n",
       "      <th>pager</th>\n",
       "      <td>pager</td>\n",
       "      <td>0.0</td>\n",
       "    </tr>\n",
       "    <tr>\n",
       "      <th>internet</th>\n",
       "      <td>internet</td>\n",
       "      <td>0.0</td>\n",
       "    </tr>\n",
       "    <tr>\n",
       "      <th>callid</th>\n",
       "      <td>callid</td>\n",
       "      <td>0.0</td>\n",
       "    </tr>\n",
       "    <tr>\n",
       "      <th>callwait</th>\n",
       "      <td>callwait</td>\n",
       "      <td>0.0</td>\n",
       "    </tr>\n",
       "    <tr>\n",
       "      <th>forward</th>\n",
       "      <td>forward</td>\n",
       "      <td>0.0</td>\n",
       "    </tr>\n",
       "    <tr>\n",
       "      <th>confer</th>\n",
       "      <td>confer</td>\n",
       "      <td>0.0</td>\n",
       "    </tr>\n",
       "    <tr>\n",
       "      <th>ebill</th>\n",
       "      <td>ebill</td>\n",
       "      <td>0.0</td>\n",
       "    </tr>\n",
       "    <tr>\n",
       "      <th>custcat</th>\n",
       "      <td>custcat</td>\n",
       "      <td>0.0</td>\n",
       "    </tr>\n",
       "    <tr>\n",
       "      <th>churn</th>\n",
       "      <td>churn</td>\n",
       "      <td>0.0</td>\n",
       "    </tr>\n",
       "  </tbody>\n",
       "</table>\n",
       "</div>"
      ],
      "text/plain": [
       "         column_name  percent_missing\n",
       "region        region              0.0\n",
       "tenure        tenure              0.0\n",
       "age              age              0.0\n",
       "marital      marital              0.0\n",
       "address      address              0.0\n",
       "income        income              0.0\n",
       "ed                ed              0.0\n",
       "employ        employ              0.0\n",
       "retire        retire              0.0\n",
       "gender        gender              0.0\n",
       "reside        reside              0.0\n",
       "tollfree    tollfree              0.0\n",
       "equip          equip              0.0\n",
       "callcard    callcard              0.0\n",
       "wireless    wireless              0.0\n",
       "longmon      longmon              0.0\n",
       "tollmon      tollmon              0.0\n",
       "equipmon    equipmon              0.0\n",
       "cardmon      cardmon              0.0\n",
       "wiremon      wiremon              0.0\n",
       "longten      longten              0.0\n",
       "tollten      tollten              0.0\n",
       "equipten    equipten              0.0\n",
       "cardten      cardten              0.0\n",
       "wireten      wireten              0.0\n",
       "multline    multline              0.0\n",
       "voice          voice              0.0\n",
       "pager          pager              0.0\n",
       "internet    internet              0.0\n",
       "callid        callid              0.0\n",
       "callwait    callwait              0.0\n",
       "forward      forward              0.0\n",
       "confer        confer              0.0\n",
       "ebill          ebill              0.0\n",
       "custcat      custcat              0.0\n",
       "churn          churn              0.0"
      ]
     },
     "execution_count": 6,
     "metadata": {},
     "output_type": "execute_result"
    }
   ],
   "source": [
    "percent_missing = df.isna().sum() * 100 / len(df)\n",
    "missing_value_df = pd.DataFrame({'column_name': df.columns,\n",
    "                                 'percent_missing': percent_missing})\n",
    "missing_value_df"
   ]
  },
  {
   "cell_type": "markdown",
   "id": "19d18539-2e35-4e79-b414-567f844a5c75",
   "metadata": {},
   "source": [
    "Thankfully there's no missing data, so there's no need to delete or replace missing values."
   ]
  },
  {
   "cell_type": "code",
   "execution_count": 7,
   "id": "19855888-80b7-4355-84b0-a4ed8db3de40",
   "metadata": {},
   "outputs": [
    {
     "data": {
      "text/plain": [
       "0    726\n",
       "1    274\n",
       "Name: churn, dtype: int64"
      ]
     },
     "execution_count": 7,
     "metadata": {},
     "output_type": "execute_result"
    }
   ],
   "source": [
    "df['churn'].value_counts()"
   ]
  },
  {
   "cell_type": "markdown",
   "id": "1f2f9519-bee6-49dc-ba9a-af849ddd5b87",
   "metadata": {},
   "source": [
    "We can see that we're dealing with imbalances classes, which we need to be careful about. Because of this, I'll try oversampling the dataset later to see if it improves performance. Also, let's quickly check a model before we even touch the data to get a baseline performance. Usually logistic regression is a good method for churn prediction/classification, and since the dataset is quite small, I don't think we need to overthink model selection. Let's split the data into train and test sets (I'm going to be using the CrossValidated version of logistic regression, so there's no need for a separate dev set to be defined explicitly).\n",
    "\n",
    "Since we're dealing with a classification problem (and an imbalanced one at that), a regular accuracy score might result in overly optimistic results, so instead I'll be using the ROC AUC scorer and also take a look at the classification report and f1 scores to see how well the model is dealing with the classes separately."
   ]
  },
  {
   "cell_type": "code",
   "execution_count": 8,
   "id": "12bed43e-cd67-46d5-abf9-6e2926e2a0d5",
   "metadata": {},
   "outputs": [],
   "source": [
    "X = df.loc[:, df.columns != 'churn']\n",
    "y = df['churn']\n",
    "\n",
    "X_train, X_test, y_train, y_test = train_test_split(\n",
    "    X, y, test_size=0.20, random_state=42)"
   ]
  },
  {
   "cell_type": "code",
   "execution_count": 9,
   "id": "b513f60f-9a63-4488-92d5-5ad675315f9e",
   "metadata": {},
   "outputs": [
    {
     "name": "stdout",
     "output_type": "stream",
     "text": [
      "0.8227184058567975\n",
      "0.8165548098434005\n"
     ]
    }
   ],
   "source": [
    "clf = LogisticRegressionCV(cv=5, solver='liblinear', max_iter=10000, scoring=\"roc_auc\").fit(X_train, y_train)\n",
    "print(clf.score(X_train, y_train))\n",
    "print(clf.score(X_test, y_test))"
   ]
  },
  {
   "cell_type": "markdown",
   "id": "a17a562c-46ab-468f-8360-b557e2b0e7ee",
   "metadata": {},
   "source": [
    "We're using a 5-fold cross-validation, and getting a result of 0.82 ROC AUC score on the test set, which is not bad for starters. I also took a look at the train set score, just to check the model is not overfitting (the value of 0.82 suggests it's not). Let's plot the ROC AUC curve and take a look at the classification report!"
   ]
  },
  {
   "cell_type": "code",
   "execution_count": 10,
   "id": "c6961dea-6d7e-43a9-b0af-3ffd574a88da",
   "metadata": {},
   "outputs": [
    {
     "name": "stdout",
     "output_type": "stream",
     "text": [
      "Accuracy 0.78\n"
     ]
    },
    {
     "data": {
      "image/png": "[encoded data removed]",
      "text/plain": [
       "<Figure size 720x720 with 1 Axes>"
      ]
     },
     "metadata": {
      "needs_background": "light"
     },
     "output_type": "display_data"
    },
    {
     "name": "stdout",
     "output_type": "stream",
     "text": [
      "              precision    recall  f1-score   support\n",
      "\n",
      "           0       0.83      0.89      0.86       149\n",
      "           1       0.59      0.45      0.51        51\n",
      "\n",
      "    accuracy                           0.78       200\n",
      "   macro avg       0.71      0.67      0.68       200\n",
      "weighted avg       0.77      0.78      0.77       200\n",
      "\n"
     ]
    }
   ],
   "source": [
    "y_pred = plot_roc_curve(clf, X_test, y_test)\n",
    "print(classification_report(y_test, y_pred))"
   ]
  },
  {
   "cell_type": "markdown",
   "id": "4b0767e4-f6fe-416f-bf6d-4667f19d0479",
   "metadata": {},
   "source": [
    "## Data preprocessing\n",
    "\n",
    "The recall for the churn class seems low, and generally, the model seems to have an issue in predicting the churn class (out of a 100 churn predictions, only 59 will actually churn). Let's see if we can improve upon this by preprocessing the data!"
   ]
  },
  {
   "cell_type": "code",
   "execution_count": 13,
   "id": "886d06f0-4b68-4714-86f4-ab03949e13f4",
   "metadata": {},
   "outputs": [
    {
     "data": {
      "text/plain": [
       "True"
      ]
     },
     "execution_count": 13,
     "metadata": {},
     "output_type": "execute_result"
    }
   ],
   "source": [
    "categorical_cols = ['region', 'custcat']\n",
    "\n",
    "binary_cols = []\n",
    "for col in df.columns:\n",
    "    if df[col].value_counts().shape[0] == 2:\n",
    "        binary_cols.append(col)\n",
    "binary_cols.remove('churn')\n",
    "\n",
    "continuous_cols = list(np.setdiff1d(df.columns, binary_cols))\n",
    "continuous_cols.remove('churn')\n",
    "continuous_cols = [ e for e in continuous_cols if  e not in categorical_cols]\n",
    "len(df.columns) == len(categorical_cols) + len(binary_cols) + len(continuous_cols) + 1"
   ]
  },
  {
   "cell_type": "markdown",
   "id": "0612b659-5ea5-4d34-89cd-d6bb9d6e5e84",
   "metadata": {},
   "source": [
    "Let's take a look at each column, to see if there's a difference between the categories in regards to churn!"
   ]
  },
  {
   "cell_type": "code",
   "execution_count": 12,
   "id": "6ce5f24e-dc12-43cb-a3cb-440da6ac075b",
   "metadata": {},
   "outputs": [
    {
     "name": "stdout",
     "output_type": "stream",
     "text": [
      "        marital\n",
      "churn          \n",
      "0      0.506887\n",
      "1      0.463504\n",
      "         retire\n",
      "churn          \n",
      "0      0.060606\n",
      "1      0.010949\n",
      "         gender\n",
      "churn          \n",
      "0      0.515152\n",
      "1      0.521898\n",
      "       tollfree\n",
      "churn          \n",
      "0      0.480716\n",
      "1      0.456204\n",
      "          equip\n",
      "churn          \n",
      "0      0.294766\n",
      "1      0.627737\n",
      "       callcard\n",
      "churn          \n",
      "0      0.747934\n",
      "1      0.492701\n",
      "       wireless\n",
      "churn          \n",
      "0      0.258953\n",
      "1      0.394161\n",
      "       multline\n",
      "churn          \n",
      "0      0.479339\n",
      "1      0.463504\n",
      "          voice\n",
      "churn          \n",
      "0      0.258953\n",
      "1      0.423358\n",
      "          pager\n",
      "churn          \n",
      "0      0.225895\n",
      "1      0.354015\n",
      "       internet\n",
      "churn          \n",
      "0      0.287879\n",
      "1      0.580292\n",
      "         callid\n",
      "churn          \n",
      "0      0.487603\n",
      "1      0.463504\n",
      "       callwait\n",
      "churn          \n",
      "0      0.504132\n",
      "1      0.434307\n",
      "        forward\n",
      "churn          \n",
      "0      0.498623\n",
      "1      0.478102\n",
      "         confer\n",
      "churn          \n",
      "0      0.522039\n",
      "1      0.448905\n",
      "          ebill\n",
      "churn          \n",
      "0      0.294766\n",
      "1      0.572993\n"
     ]
    }
   ],
   "source": [
    "for col in binary_cols:\n",
    "    print(df[[col,'churn']].groupby(['churn']).mean())"
   ]
  },
  {
   "cell_type": "markdown",
   "id": "364e32ba-6869-4e41-96fe-aa1a8771ac60",
   "metadata": {},
   "source": [
    "It seems like gender doesn't really make a difference, we could remove it from the dataset. However, since we only have a tiny set, computing time is not an issue, so I'll keep it in, won't do any harm."
   ]
  },
  {
   "cell_type": "code",
   "execution_count": 13,
   "id": "0ad7ada9-911c-4375-8023-cbda73c21d49",
   "metadata": {},
   "outputs": [
    {
     "name": "stdout",
     "output_type": "stream",
     "text": [
      "         address\n",
      "churn           \n",
      "0      13.056474\n",
      "1       7.562044\n",
      "             age\n",
      "churn           \n",
      "0      43.633609\n",
      "1      36.518248\n",
      "         cardmon\n",
      "churn           \n",
      "0      15.138085\n",
      "1      10.185219\n",
      "          cardten\n",
      "churn            \n",
      "0      724.202479\n",
      "1      291.980839\n",
      "             ed\n",
      "churn          \n",
      "0      2.517906\n",
      "1      3.076642\n",
      "          employ\n",
      "churn           \n",
      "0      12.684573\n",
      "1       6.489051\n",
      "        equipmon\n",
      "churn           \n",
      "0      11.249793\n",
      "1      22.089234\n",
      "         equipten\n",
      "churn            \n",
      "0      454.225895\n",
      "1      495.857117\n",
      "          income\n",
      "churn           \n",
      "0      83.538567\n",
      "1      61.627737\n",
      "         longmon\n",
      "churn           \n",
      "0      13.456336\n",
      "1       7.130657\n",
      "          longten\n",
      "churn            \n",
      "0      707.667011\n",
      "1      220.013869\n",
      "         reside\n",
      "churn          \n",
      "0      2.322314\n",
      "1      2.354015\n",
      "          tenure\n",
      "churn           \n",
      "0      40.468320\n",
      "1      22.430657\n",
      "         tollmon\n",
      "churn           \n",
      "0      14.209366\n",
      "1      10.795620\n",
      "         tollten\n",
      "churn           \n",
      "0      642.74573\n",
      "1      308.85073\n",
      "         wiremon\n",
      "churn           \n",
      "0      10.378719\n",
      "1      14.777190\n",
      "          wireten\n",
      "churn            \n",
      "0      462.028994\n",
      "1      391.619891\n"
     ]
    }
   ],
   "source": [
    "for col in continuous_cols:\n",
    "    print(df[[col,'churn']].groupby(['churn']).mean())"
   ]
  },
  {
   "cell_type": "markdown",
   "id": "e3176bfb-16fe-4358-8ff9-e549cc4a0d92",
   "metadata": {},
   "source": [
    "For similar reasons we would want to remove the Education and Reside columns since those also do not differ much between the churning and non-churning groups. But since we're not pressed for computing power, I'll leave them in."
   ]
  },
  {
   "cell_type": "code",
   "execution_count": 14,
   "id": "f9d887dc-ae3a-481d-bcc2-ad8cf6786fee",
   "metadata": {},
   "outputs": [
    {
     "name": "stdout",
     "output_type": "stream",
     "text": [
      "           churn\n",
      "region          \n",
      "1       0.279503\n",
      "2       0.281437\n",
      "3       0.261628\n",
      "            churn\n",
      "custcat          \n",
      "1        0.312030\n",
      "2        0.271889\n",
      "3        0.156584\n",
      "4        0.372881\n"
     ]
    }
   ],
   "source": [
    "for col in categorical_cols:\n",
    "    print(df[[col,'churn']].groupby([col]).mean())"
   ]
  },
  {
   "cell_type": "code",
   "execution_count": 15,
   "id": "d42eb1f8-6b2b-49d1-b3b0-33da66803d2d",
   "metadata": {},
   "outputs": [
    {
     "data": {
      "image/png": "[encoded data removed]",
      "text/plain": [
       "<Figure size 1440x720 with 18 Axes>"
      ]
     },
     "metadata": {
      "needs_background": "light"
     },
     "output_type": "display_data"
    }
   ],
   "source": [
    "df[continuous_cols].hist(layout=(3, 6), figsize=(20, 10))\n",
    "plt.show()"
   ]
  },
  {
   "cell_type": "markdown",
   "id": "bc6bd511-494c-49b6-baf5-48a818f7ac9f",
   "metadata": {},
   "source": [
    "We can see there are outliers in the dataset, more on this later."
   ]
  },
  {
   "cell_type": "markdown",
   "id": "21034055-704c-4bf0-8582-775c0c9d3dae",
   "metadata": {},
   "source": [
    "Let's one-hot-encode our categorical columns, since they don't contain ordinal data!"
   ]
  },
  {
   "cell_type": "code",
   "execution_count": 16,
   "id": "40e6cb2d-c2d6-4ae4-9564-c7eebd4184b3",
   "metadata": {},
   "outputs": [
    {
     "data": {
      "text/html": [
       "<div>\n",
       "<style scoped>\n",
       "    .dataframe tbody tr th:only-of-type {\n",
       "        vertical-align: middle;\n",
       "    }\n",
       "\n",
       "    .dataframe tbody tr th {\n",
       "        vertical-align: top;\n",
       "    }\n",
       "\n",
       "    .dataframe thead th {\n",
       "        text-align: right;\n",
       "    }\n",
       "</style>\n",
       "<table border=\"1\" class=\"dataframe\">\n",
       "  <thead>\n",
       "    <tr style=\"text-align: right;\">\n",
       "      <th></th>\n",
       "      <th>tenure</th>\n",
       "      <th>age</th>\n",
       "      <th>marital</th>\n",
       "      <th>address</th>\n",
       "      <th>income</th>\n",
       "      <th>ed</th>\n",
       "      <th>employ</th>\n",
       "      <th>retire</th>\n",
       "      <th>gender</th>\n",
       "      <th>reside</th>\n",
       "      <th>...</th>\n",
       "      <th>callwait</th>\n",
       "      <th>forward</th>\n",
       "      <th>confer</th>\n",
       "      <th>ebill</th>\n",
       "      <th>churn</th>\n",
       "      <th>region_2</th>\n",
       "      <th>region_3</th>\n",
       "      <th>custcat_2</th>\n",
       "      <th>custcat_3</th>\n",
       "      <th>custcat_4</th>\n",
       "    </tr>\n",
       "  </thead>\n",
       "  <tbody>\n",
       "    <tr>\n",
       "      <th>0</th>\n",
       "      <td>13</td>\n",
       "      <td>44</td>\n",
       "      <td>1</td>\n",
       "      <td>9</td>\n",
       "      <td>64.0</td>\n",
       "      <td>4</td>\n",
       "      <td>5</td>\n",
       "      <td>0.0</td>\n",
       "      <td>0</td>\n",
       "      <td>2</td>\n",
       "      <td>...</td>\n",
       "      <td>0</td>\n",
       "      <td>1</td>\n",
       "      <td>0</td>\n",
       "      <td>0</td>\n",
       "      <td>1</td>\n",
       "      <td>1</td>\n",
       "      <td>0</td>\n",
       "      <td>0</td>\n",
       "      <td>0</td>\n",
       "      <td>0</td>\n",
       "    </tr>\n",
       "    <tr>\n",
       "      <th>1</th>\n",
       "      <td>11</td>\n",
       "      <td>33</td>\n",
       "      <td>1</td>\n",
       "      <td>7</td>\n",
       "      <td>136.0</td>\n",
       "      <td>5</td>\n",
       "      <td>5</td>\n",
       "      <td>0.0</td>\n",
       "      <td>0</td>\n",
       "      <td>6</td>\n",
       "      <td>...</td>\n",
       "      <td>1</td>\n",
       "      <td>1</td>\n",
       "      <td>1</td>\n",
       "      <td>0</td>\n",
       "      <td>1</td>\n",
       "      <td>0</td>\n",
       "      <td>1</td>\n",
       "      <td>0</td>\n",
       "      <td>0</td>\n",
       "      <td>1</td>\n",
       "    </tr>\n",
       "    <tr>\n",
       "      <th>2</th>\n",
       "      <td>68</td>\n",
       "      <td>52</td>\n",
       "      <td>1</td>\n",
       "      <td>24</td>\n",
       "      <td>116.0</td>\n",
       "      <td>1</td>\n",
       "      <td>29</td>\n",
       "      <td>0.0</td>\n",
       "      <td>1</td>\n",
       "      <td>2</td>\n",
       "      <td>...</td>\n",
       "      <td>1</td>\n",
       "      <td>0</td>\n",
       "      <td>1</td>\n",
       "      <td>0</td>\n",
       "      <td>0</td>\n",
       "      <td>0</td>\n",
       "      <td>1</td>\n",
       "      <td>0</td>\n",
       "      <td>1</td>\n",
       "      <td>0</td>\n",
       "    </tr>\n",
       "    <tr>\n",
       "      <th>3</th>\n",
       "      <td>33</td>\n",
       "      <td>33</td>\n",
       "      <td>0</td>\n",
       "      <td>12</td>\n",
       "      <td>33.0</td>\n",
       "      <td>2</td>\n",
       "      <td>0</td>\n",
       "      <td>0.0</td>\n",
       "      <td>1</td>\n",
       "      <td>1</td>\n",
       "      <td>...</td>\n",
       "      <td>0</td>\n",
       "      <td>0</td>\n",
       "      <td>0</td>\n",
       "      <td>0</td>\n",
       "      <td>1</td>\n",
       "      <td>1</td>\n",
       "      <td>0</td>\n",
       "      <td>0</td>\n",
       "      <td>0</td>\n",
       "      <td>0</td>\n",
       "    </tr>\n",
       "    <tr>\n",
       "      <th>4</th>\n",
       "      <td>23</td>\n",
       "      <td>30</td>\n",
       "      <td>1</td>\n",
       "      <td>9</td>\n",
       "      <td>30.0</td>\n",
       "      <td>1</td>\n",
       "      <td>2</td>\n",
       "      <td>0.0</td>\n",
       "      <td>0</td>\n",
       "      <td>4</td>\n",
       "      <td>...</td>\n",
       "      <td>0</td>\n",
       "      <td>1</td>\n",
       "      <td>1</td>\n",
       "      <td>0</td>\n",
       "      <td>0</td>\n",
       "      <td>1</td>\n",
       "      <td>0</td>\n",
       "      <td>0</td>\n",
       "      <td>1</td>\n",
       "      <td>0</td>\n",
       "    </tr>\n",
       "    <tr>\n",
       "      <th>...</th>\n",
       "      <td>...</td>\n",
       "      <td>...</td>\n",
       "      <td>...</td>\n",
       "      <td>...</td>\n",
       "      <td>...</td>\n",
       "      <td>...</td>\n",
       "      <td>...</td>\n",
       "      <td>...</td>\n",
       "      <td>...</td>\n",
       "      <td>...</td>\n",
       "      <td>...</td>\n",
       "      <td>...</td>\n",
       "      <td>...</td>\n",
       "      <td>...</td>\n",
       "      <td>...</td>\n",
       "      <td>...</td>\n",
       "      <td>...</td>\n",
       "      <td>...</td>\n",
       "      <td>...</td>\n",
       "      <td>...</td>\n",
       "      <td>...</td>\n",
       "    </tr>\n",
       "    <tr>\n",
       "      <th>995</th>\n",
       "      <td>10</td>\n",
       "      <td>39</td>\n",
       "      <td>0</td>\n",
       "      <td>0</td>\n",
       "      <td>27.0</td>\n",
       "      <td>3</td>\n",
       "      <td>0</td>\n",
       "      <td>0.0</td>\n",
       "      <td>1</td>\n",
       "      <td>3</td>\n",
       "      <td>...</td>\n",
       "      <td>0</td>\n",
       "      <td>0</td>\n",
       "      <td>0</td>\n",
       "      <td>1</td>\n",
       "      <td>0</td>\n",
       "      <td>0</td>\n",
       "      <td>1</td>\n",
       "      <td>0</td>\n",
       "      <td>0</td>\n",
       "      <td>0</td>\n",
       "    </tr>\n",
       "    <tr>\n",
       "      <th>996</th>\n",
       "      <td>7</td>\n",
       "      <td>34</td>\n",
       "      <td>0</td>\n",
       "      <td>2</td>\n",
       "      <td>22.0</td>\n",
       "      <td>5</td>\n",
       "      <td>5</td>\n",
       "      <td>0.0</td>\n",
       "      <td>1</td>\n",
       "      <td>1</td>\n",
       "      <td>...</td>\n",
       "      <td>0</td>\n",
       "      <td>0</td>\n",
       "      <td>0</td>\n",
       "      <td>0</td>\n",
       "      <td>0</td>\n",
       "      <td>0</td>\n",
       "      <td>0</td>\n",
       "      <td>0</td>\n",
       "      <td>0</td>\n",
       "      <td>0</td>\n",
       "    </tr>\n",
       "    <tr>\n",
       "      <th>997</th>\n",
       "      <td>67</td>\n",
       "      <td>59</td>\n",
       "      <td>0</td>\n",
       "      <td>40</td>\n",
       "      <td>944.0</td>\n",
       "      <td>5</td>\n",
       "      <td>33</td>\n",
       "      <td>0.0</td>\n",
       "      <td>1</td>\n",
       "      <td>1</td>\n",
       "      <td>...</td>\n",
       "      <td>1</td>\n",
       "      <td>1</td>\n",
       "      <td>1</td>\n",
       "      <td>1</td>\n",
       "      <td>0</td>\n",
       "      <td>0</td>\n",
       "      <td>1</td>\n",
       "      <td>0</td>\n",
       "      <td>0</td>\n",
       "      <td>1</td>\n",
       "    </tr>\n",
       "    <tr>\n",
       "      <th>998</th>\n",
       "      <td>70</td>\n",
       "      <td>49</td>\n",
       "      <td>0</td>\n",
       "      <td>18</td>\n",
       "      <td>87.0</td>\n",
       "      <td>2</td>\n",
       "      <td>22</td>\n",
       "      <td>0.0</td>\n",
       "      <td>1</td>\n",
       "      <td>1</td>\n",
       "      <td>...</td>\n",
       "      <td>1</td>\n",
       "      <td>1</td>\n",
       "      <td>1</td>\n",
       "      <td>0</td>\n",
       "      <td>0</td>\n",
       "      <td>0</td>\n",
       "      <td>1</td>\n",
       "      <td>0</td>\n",
       "      <td>1</td>\n",
       "      <td>0</td>\n",
       "    </tr>\n",
       "    <tr>\n",
       "      <th>999</th>\n",
       "      <td>50</td>\n",
       "      <td>36</td>\n",
       "      <td>1</td>\n",
       "      <td>7</td>\n",
       "      <td>39.0</td>\n",
       "      <td>3</td>\n",
       "      <td>3</td>\n",
       "      <td>0.0</td>\n",
       "      <td>1</td>\n",
       "      <td>3</td>\n",
       "      <td>...</td>\n",
       "      <td>0</td>\n",
       "      <td>0</td>\n",
       "      <td>0</td>\n",
       "      <td>1</td>\n",
       "      <td>1</td>\n",
       "      <td>0</td>\n",
       "      <td>1</td>\n",
       "      <td>1</td>\n",
       "      <td>0</td>\n",
       "      <td>0</td>\n",
       "    </tr>\n",
       "  </tbody>\n",
       "</table>\n",
       "<p>1000 rows × 39 columns</p>\n",
       "</div>"
      ],
      "text/plain": [
       "     tenure  age  marital  address  income  ed  employ  retire  gender  \\\n",
       "0        13   44        1        9    64.0   4       5     0.0       0   \n",
       "1        11   33        1        7   136.0   5       5     0.0       0   \n",
       "2        68   52        1       24   116.0   1      29     0.0       1   \n",
       "3        33   33        0       12    33.0   2       0     0.0       1   \n",
       "4        23   30        1        9    30.0   1       2     0.0       0   \n",
       "..      ...  ...      ...      ...     ...  ..     ...     ...     ...   \n",
       "995      10   39        0        0    27.0   3       0     0.0       1   \n",
       "996       7   34        0        2    22.0   5       5     0.0       1   \n",
       "997      67   59        0       40   944.0   5      33     0.0       1   \n",
       "998      70   49        0       18    87.0   2      22     0.0       1   \n",
       "999      50   36        1        7    39.0   3       3     0.0       1   \n",
       "\n",
       "     reside  ...  callwait  forward  confer  ebill  churn  region_2  region_3  \\\n",
       "0         2  ...         0        1       0      0      1         1         0   \n",
       "1         6  ...         1        1       1      0      1         0         1   \n",
       "2         2  ...         1        0       1      0      0         0         1   \n",
       "3         1  ...         0        0       0      0      1         1         0   \n",
       "4         4  ...         0        1       1      0      0         1         0   \n",
       "..      ...  ...       ...      ...     ...    ...    ...       ...       ...   \n",
       "995       3  ...         0        0       0      1      0         0         1   \n",
       "996       1  ...         0        0       0      0      0         0         0   \n",
       "997       1  ...         1        1       1      1      0         0         1   \n",
       "998       1  ...         1        1       1      0      0         0         1   \n",
       "999       3  ...         0        0       0      1      1         0         1   \n",
       "\n",
       "     custcat_2  custcat_3  custcat_4  \n",
       "0            0          0          0  \n",
       "1            0          0          1  \n",
       "2            0          1          0  \n",
       "3            0          0          0  \n",
       "4            0          1          0  \n",
       "..         ...        ...        ...  \n",
       "995          0          0          0  \n",
       "996          0          0          0  \n",
       "997          0          0          1  \n",
       "998          0          1          0  \n",
       "999          1          0          0  \n",
       "\n",
       "[1000 rows x 39 columns]"
      ]
     },
     "execution_count": 16,
     "metadata": {},
     "output_type": "execute_result"
    }
   ],
   "source": [
    "df = pd.get_dummies(df, columns=categorical_cols, drop_first=True)\n",
    "df"
   ]
  },
  {
   "cell_type": "markdown",
   "id": "04a0e2f4-2b65-4641-8d38-db9224aa0e5c",
   "metadata": {},
   "source": [
    "## Modeling\n",
    "\n",
    "I'll now plot the correlation matrix (but will only highlight correlations stronger than ±.05)!"
   ]
  },
  {
   "cell_type": "code",
   "execution_count": 17,
   "id": "111faa87-2816-46fa-b1eb-fc2ac7f2c37f",
   "metadata": {},
   "outputs": [
    {
     "data": {
      "image/png": "[encoded data removed]",
      "text/plain": [
       "<Figure size 2160x2160 with 2 Axes>"
      ]
     },
     "metadata": {
      "needs_background": "light"
     },
     "output_type": "display_data"
    }
   ],
   "source": [
    "corr = df.corr()\n",
    "upper = corr.where(np.triu(np.ones(corr.shape), k=1).astype(np.bool))\n",
    "\n",
    "# Find index of feature columns with correlation greater than 0.95\n",
    "to_keep = [column for column in upper.columns if (any(upper[column] > 0.5) and any(upper[column] < -0.5))]\n",
    "corr = corr[((corr >= .5) | (corr <= -.5)) & (corr !=1.000)]\n",
    "\n",
    "corr.dropna(how='all', inplace=True)\n",
    "corr.dropna(how='all', axis=1, inplace=True)\n",
    "\n",
    "fig, ax = plt.subplots(figsize=(30,30))\n",
    "ax = sns.heatmap(\n",
    "    corr, \n",
    "    vmin=-1, vmax=1, center=0,\n",
    "    cmap=sns.diverging_palette(20, 220, n=200),\n",
    "    square=True\n",
    ")\n",
    "ax.set_xticklabels(\n",
    "    ax.get_xticklabels(),\n",
    "    rotation=45,\n",
    "    horizontalalignment='right'\n",
    ");"
   ]
  },
  {
   "cell_type": "markdown",
   "id": "92fccec4-3045-45b5-b44a-f5b317f800d7",
   "metadata": {},
   "source": [
    "We can notice some interesting and some self-explanatory correlations, however, churn does not seem to correlate with anything highly."
   ]
  },
  {
   "cell_type": "markdown",
   "id": "3af5fe32-82ee-4d56-98de-51d42524fca7",
   "metadata": {},
   "source": [
    "Let's create a new split from the now transformed data and see if the transformations improved the performance!"
   ]
  },
  {
   "cell_type": "code",
   "execution_count": 23,
   "id": "53da0dbc-295a-4d4c-8d5a-1a692101b46c",
   "metadata": {},
   "outputs": [],
   "source": [
    "X = df.loc[:, df.columns != 'churn']\n",
    "y = df['churn']\n",
    "\n",
    "X_train, X_test, y_train, y_test = train_test_split(X, y, test_size=0.20)"
   ]
  },
  {
   "cell_type": "code",
   "execution_count": 24,
   "id": "4d613e57-97a0-4a48-b7fa-a54848cdd3df",
   "metadata": {},
   "outputs": [
    {
     "name": "stdout",
     "output_type": "stream",
     "text": [
      "0.819450011395877\n",
      "0.8387460815047022\n"
     ]
    }
   ],
   "source": [
    "clf = LogisticRegressionCV(cv=5, solver='liblinear', max_iter=10000, scoring=\"roc_auc\").fit(X_train, y_train)\n",
    "print(clf.score(X_train, y_train))\n",
    "print(clf.score(X_test, y_test))"
   ]
  },
  {
   "cell_type": "code",
   "execution_count": 25,
   "id": "33495b1f-1936-4c1a-98c2-7a6d81a92726",
   "metadata": {},
   "outputs": [
    {
     "name": "stdout",
     "output_type": "stream",
     "text": [
      "Accuracy 0.79\n"
     ]
    },
    {
     "data": {
      "image/png": "[encoded data removed]",
      "text/plain": [
       "<Figure size 720x720 with 1 Axes>"
      ]
     },
     "metadata": {
      "needs_background": "light"
     },
     "output_type": "display_data"
    },
    {
     "name": "stdout",
     "output_type": "stream",
     "text": [
      "              precision    recall  f1-score   support\n",
      "\n",
      "           0       0.83      0.89      0.86       145\n",
      "           1       0.64      0.53      0.58        55\n",
      "\n",
      "    accuracy                           0.79       200\n",
      "   macro avg       0.74      0.71      0.72       200\n",
      "weighted avg       0.78      0.79      0.78       200\n",
      "\n"
     ]
    }
   ],
   "source": [
    "y_pred = plot_roc_curve(clf, X_test, y_test)\n",
    "print(classification_report(y_test, y_pred))"
   ]
  },
  {
   "cell_type": "code",
   "execution_count": 37,
   "id": "e0d8c5b2-02b0-46e8-82d2-e1b947f512bd",
   "metadata": {},
   "outputs": [
    {
     "name": "stderr",
     "output_type": "stream",
     "text": [
      "C:\\Users\\csana\\.conda\\envs\\gensim pls\\lib\\site-packages\\ipykernel_launcher.py:10: UserWarning: FixedFormatter should only be used together with FixedLocator\n",
      "  # Remove the CWD from sys.path while we load stuff.\n",
      "C:\\Users\\csana\\.conda\\envs\\gensim pls\\lib\\site-packages\\ipykernel_launcher.py:11: UserWarning: FixedFormatter should only be used together with FixedLocator\n",
      "  # This is added back by InteractiveShellApp.init_path()\n"
     ]
    },
    {
     "data": {
      "image/png": "[encoded data removed]",
      "text/plain": [
       "<Figure size 864x864 with 2 Axes>"
      ]
     },
     "metadata": {
      "needs_background": "light"
     },
     "output_type": "display_data"
    }
   ],
   "source": [
    "plot_conf_mtx(clf, X_test, y_test)"
   ]
  },
  {
   "cell_type": "markdown",
   "id": "462cf45a-10ca-4e5a-8992-557cd03374a5",
   "metadata": {},
   "source": [
    "Since some methods are sensitive to non-standardized and big-valued data, let's standardize our dataset! Logistic regression is actually not one of these methods, but neural networks are, and I want to try an MLP Classifier on the data (in which case we might easily run into exploding gradients if we don't scale the dataset)."
   ]
  },
  {
   "cell_type": "code",
   "execution_count": 26,
   "id": "b098c293-3902-4afc-966c-83c28ad5c5bc",
   "metadata": {},
   "outputs": [
    {
     "name": "stderr",
     "output_type": "stream",
     "text": [
      "C:\\Users\\csana\\.conda\\envs\\gensim pls\\lib\\site-packages\\pandas\\core\\frame.py:3188: SettingWithCopyWarning: \n",
      "A value is trying to be set on a copy of a slice from a DataFrame.\n",
      "Try using .loc[row_indexer,col_indexer] = value instead\n",
      "\n",
      "See the caveats in the documentation: https://pandas.pydata.org/pandas-docs/stable/user_guide/indexing.html#returning-a-view-versus-a-copy\n",
      "  self[k1] = value[k2]\n",
      "C:\\Users\\csana\\.conda\\envs\\gensim pls\\lib\\site-packages\\pandas\\core\\frame.py:3188: SettingWithCopyWarning: \n",
      "A value is trying to be set on a copy of a slice from a DataFrame.\n",
      "Try using .loc[row_indexer,col_indexer] = value instead\n",
      "\n",
      "See the caveats in the documentation: https://pandas.pydata.org/pandas-docs/stable/user_guide/indexing.html#returning-a-view-versus-a-copy\n",
      "  self[k1] = value[k2]\n"
     ]
    }
   ],
   "source": [
    "scaler = MinMaxScaler()\n",
    "\n",
    "X_train[continuous_cols] = pd.DataFrame(scaler.fit_transform(X_train[continuous_cols].values), columns=continuous_cols, index=X_train.index)\n",
    "X_test[continuous_cols] = pd.DataFrame(scaler.transform(X_test[continuous_cols].values), columns=continuous_cols, index=X_test.index)"
   ]
  },
  {
   "cell_type": "code",
   "execution_count": 27,
   "id": "2c70abcc-0f2c-40c2-99e8-5058c7607d72",
   "metadata": {},
   "outputs": [
    {
     "name": "stdout",
     "output_type": "stream",
     "text": [
      "0.8120466209259739\n",
      "0.838871473354232\n"
     ]
    }
   ],
   "source": [
    "clf = LogisticRegressionCV(cv=5, solver='liblinear', max_iter=10000, scoring=\"roc_auc\").fit(X_train, y_train)\n",
    "print(clf.score(X_train, y_train))\n",
    "print(clf.score(X_test, y_test))"
   ]
  },
  {
   "cell_type": "code",
   "execution_count": 28,
   "id": "9a1f67a7-c2e8-446e-9f19-3b275ee53706",
   "metadata": {},
   "outputs": [
    {
     "name": "stdout",
     "output_type": "stream",
     "text": [
      "Accuracy 0.825\n"
     ]
    },
    {
     "data": {
      "image/png": "[encoded data removed]",
      "text/plain": [
       "<Figure size 720x720 with 1 Axes>"
      ]
     },
     "metadata": {
      "needs_background": "light"
     },
     "output_type": "display_data"
    },
    {
     "name": "stdout",
     "output_type": "stream",
     "text": [
      "              precision    recall  f1-score   support\n",
      "\n",
      "           0       0.84      0.94      0.89       145\n",
      "           1       0.78      0.51      0.62        55\n",
      "\n",
      "    accuracy                           0.82       200\n",
      "   macro avg       0.81      0.73      0.75       200\n",
      "weighted avg       0.82      0.82      0.81       200\n",
      "\n"
     ]
    }
   ],
   "source": [
    "y_pred = plot_roc_curve(clf, X_test, y_test)\n",
    "print(classification_report(y_test, y_pred))"
   ]
  },
  {
   "cell_type": "markdown",
   "id": "245b5b59-a887-45fe-8dcb-57a4b0805ab3",
   "metadata": {},
   "source": [
    "As expected, we can only see marginal improvements."
   ]
  },
  {
   "cell_type": "markdown",
   "id": "c01b198b-b61a-4fa7-abaf-9105691e2d42",
   "metadata": {},
   "source": [
    "Next, I wanted to make use of SKLearn's pipeline functionality, plus try to only keep prime components for the MLPClassifier (just to make cross-validation faster). Since we have a tiny dataset and MLP is quite powerful, I expect it to overfit the data easily, which is why I'm opting for smaller layer sizes and fewer neurons."
   ]
  },
  {
   "cell_type": "code",
   "execution_count": 29,
   "id": "a0960990-5b46-4930-a995-b45c0fc79f42",
   "metadata": {},
   "outputs": [
    {
     "name": "stdout",
     "output_type": "stream",
     "text": [
      "Fitting 5 folds for each of 15 candidates, totalling 75 fits\n",
      "Best parameter (CV score=0.764):\n",
      "{'MLPClassifier__activation': 'logistic', 'MLPClassifier__alpha': 0.1091647459830606, 'MLPClassifier__hidden_layer_sizes': (13,), 'MLPClassifier__learning_rate': 'constant', 'MLPClassifier__solver': 'adam', 'PCA__n_components': 26}\n"
     ]
    }
   ],
   "source": [
    "# Define a pipeline to search for the best combination of PCA truncation\n",
    "pca = PCA()\n",
    "mlp = MLPClassifier(max_iter=2000)\n",
    "pipe = Pipeline(steps=[('PCA', pca),('MLPClassifier', mlp)])\n",
    "\n",
    "\n",
    "param_dist = {'PCA__n_components': stats.randint(1, len(X_train.columns)),  \n",
    "              'MLPClassifier__hidden_layer_sizes': [(stats.randint.rvs(1,38,1), stats.randint.rvs(1,38,1),stats.randint.rvs(1,38,1),), \n",
    "                                                    (stats.randint.rvs(1,38,1), stats.randint.rvs(1,38,1),), \n",
    "                                                    (stats.randint.rvs(1,38,1),)],\n",
    "              'MLPClassifier__activation': ['tanh', 'relu', 'logistic'],\n",
    "              'MLPClassifier__solver': ['sgd', 'adam', 'lbfgs'],\n",
    "              'MLPClassifier__alpha': stats.uniform(0.0001, 0.9),\n",
    "              'MLPClassifier__learning_rate': ['constant','adaptive']\n",
    "             }\n",
    "\n",
    "search = RandomizedSearchCV(pipe, param_dist, n_jobs=-1, n_iter=15, verbose=10, error_score='raise')\n",
    "search.fit(X_train, y_train)\n",
    "print(\"Best parameter (CV score=%0.3f):\" % search.best_score_)\n",
    "print(search.best_params_)"
   ]
  },
  {
   "cell_type": "markdown",
   "id": "c6969f19-35f2-43d2-b3bf-ad42ec27f864",
   "metadata": {},
   "source": [
    "We can take a look at how PCA performed as we increased the number of components:"
   ]
  },
  {
   "cell_type": "code",
   "execution_count": 30,
   "id": "9c7d3078-d242-410e-a1f4-10e5313f1c96",
   "metadata": {},
   "outputs": [
    {
     "data": {
      "image/png": "[encoded data removed]",
      "text/plain": [
       "<Figure size 432x432 with 2 Axes>"
      ]
     },
     "metadata": {
      "needs_background": "light"
     },
     "output_type": "display_data"
    }
   ],
   "source": [
    "pca.fit(X_train)\n",
    "\n",
    "fig, (ax0, ax1) = plt.subplots(nrows=2, sharex=True, figsize=(6, 6))\n",
    "ax0.plot(np.arange(1, pca.n_components_ + 1),\n",
    "         pca.explained_variance_ratio_, '+', linewidth=2)\n",
    "ax0.set_ylabel('PCA explained variance ratio')\n",
    "\n",
    "ax0.axvline(search.best_estimator_.named_steps['PCA'].n_components,\n",
    "            linestyle=':', label='n_components chosen')\n",
    "ax0.legend(prop=dict(size=12))\n",
    "\n",
    "results = pd.DataFrame(search.cv_results_)\n",
    "components_col = 'param_PCA__n_components'\n",
    "best_clfs = results.groupby(components_col).apply(\n",
    "    lambda g: g.nlargest(1, 'mean_test_score'))\n",
    "\n",
    "best_clfs.plot(x=components_col, y='mean_test_score', yerr='std_test_score',\n",
    "               legend=False, ax=ax1)\n",
    "ax1.set_ylabel('Classification accuracy (val)')\n",
    "ax1.set_xlabel('n_components')\n",
    "\n",
    "plt.xlim(-1, 40)\n",
    "\n",
    "plt.tight_layout()\n",
    "plt.show()"
   ]
  },
  {
   "cell_type": "code",
   "execution_count": 31,
   "id": "688be224-e61e-4a2c-8a34-ac7713400eb3",
   "metadata": {},
   "outputs": [
    {
     "name": "stdout",
     "output_type": "stream",
     "text": [
      "Accuracy 0.805\n"
     ]
    },
    {
     "data": {
      "image/png": "[encoded data removed]",
      "text/plain": [
       "<Figure size 720x720 with 1 Axes>"
      ]
     },
     "metadata": {
      "needs_background": "light"
     },
     "output_type": "display_data"
    },
    {
     "name": "stdout",
     "output_type": "stream",
     "text": [
      "              precision    recall  f1-score   support\n",
      "\n",
      "           0       0.83      0.92      0.87       145\n",
      "           1       0.71      0.49      0.58        55\n",
      "\n",
      "    accuracy                           0.81       200\n",
      "   macro avg       0.77      0.71      0.73       200\n",
      "weighted avg       0.80      0.81      0.79       200\n",
      "\n"
     ]
    }
   ],
   "source": [
    "y_pred = plot_roc_curve(search, X_test, y_test)\n",
    "print(classification_report(y_test, y_pred))"
   ]
  },
  {
   "cell_type": "markdown",
   "id": "31fa19d0-8031-41ad-a69d-6c4f3fca7500",
   "metadata": {},
   "source": [
    "This resulted in a marginally worse model, which I attribute to the data loss during PCA."
   ]
  },
  {
   "cell_type": "markdown",
   "id": "afbcbfa2-7f5e-4d95-824e-746436f5103b",
   "metadata": {},
   "source": [
    "Finally, let's take a look at what the most important features are. For this, I'll train a random forest. I'll try to combat the class imbalance by letting the algorithm adjust the class weights."
   ]
  },
  {
   "cell_type": "code",
   "execution_count": 32,
   "id": "1f525b23-3f20-4d82-aa48-7cff80401fe7",
   "metadata": {},
   "outputs": [
    {
     "data": {
      "text/plain": [
       "0.775"
      ]
     },
     "execution_count": 32,
     "metadata": {},
     "output_type": "execute_result"
    }
   ],
   "source": [
    "rfc = RandomForestClassifier(class_weight='balanced', min_samples_split=2, n_jobs=-1)\n",
    "rfc.fit(X_train, y_train)\n",
    "rfc.score(X_test, y_test)"
   ]
  },
  {
   "cell_type": "code",
   "execution_count": 33,
   "id": "c0e09480-a77b-44ad-ac1b-6134a7831bd3",
   "metadata": {},
   "outputs": [
    {
     "data": {
      "image/png": "[encoded data removed]",
      "text/plain": [
       "<Figure size 2160x2160 with 1 Axes>"
      ]
     },
     "metadata": {
      "needs_background": "light"
     },
     "output_type": "display_data"
    }
   ],
   "source": [
    "df_feature_importance = pd.DataFrame(rfc.feature_importances_, index=X.columns, columns=['feature importance']).sort_values('feature importance', ascending=False)\n",
    "fig, ax = plt.subplots(figsize=(30,30))\n",
    "ax = sns.barplot(x=\"feature importance\", y=df_feature_importance.index, data=df_feature_importance, orient='h')"
   ]
  },
  {
   "cell_type": "code",
   "execution_count": 34,
   "id": "4559e3d0-e987-4c43-8414-58a0cbb02170",
   "metadata": {},
   "outputs": [
    {
     "name": "stdout",
     "output_type": "stream",
     "text": [
      "Accuracy 0.805\n"
     ]
    },
    {
     "data": {
      "image/png": "[encoded data removed]",
      "text/plain": [
       "<Figure size 720x720 with 1 Axes>"
      ]
     },
     "metadata": {
      "needs_background": "light"
     },
     "output_type": "display_data"
    },
    {
     "name": "stdout",
     "output_type": "stream",
     "text": [
      "              precision    recall  f1-score   support\n",
      "\n",
      "           0       0.83      0.92      0.87       145\n",
      "           1       0.71      0.49      0.58        55\n",
      "\n",
      "    accuracy                           0.81       200\n",
      "   macro avg       0.77      0.71      0.73       200\n",
      "weighted avg       0.80      0.81      0.79       200\n",
      "\n"
     ]
    }
   ],
   "source": [
    "y_pred = plot_roc_curve(search, X_test, y_test)\n",
    "print(classification_report(y_test, y_pred))"
   ]
  },
  {
   "cell_type": "markdown",
   "id": "2d5709e7-b120-4b49-be7a-c466f851d669",
   "metadata": {},
   "source": [
    "## Conclusion\n",
    "\n",
    "Interestingly enough, there were only marginal improvements achieved by performing the necessary data transformations, and the best model with the 0.838 ROC AUC was almost performing the same as the inintial model we tried with the raw data with logistic regression. This is the model I'd recommend using - however, it's worth noting, it's still not exceptional at predicting churn (but is quite adequate in predicting who won't churn) - as can be see in the precision and recall scores for class 1. Only 78 of 100 predicted to churn will actually churn (so we get a ~22% false positive rate for the model), and it only catches 51% of the actual people who will churn (49% false negative rate for churners). Still, catching around half the people who try to leave can lead to tangible increase in business performance!\n",
    "\n",
    "Since we're dealing with a tiniy dataset and most models I tried performed similarly, I think this now comes down to data limiatations - there's no more information the models can gather from the data. As a next step I would propose getting more data, and especially, try to get more data from the underrepresented class. It's also worth noting that some ideas I tried that should've improved the model in theory actually made things worse, so I left them out from the final analysis (detailed below).\n",
    "\n",
    "Another improvement we could try is to perform a more excessive randomized search on the best model (logistic regression). Although I used the CV version, which automatically performs parameter optimization, it might be worth looking into it some more. "
   ]
  },
  {
   "cell_type": "markdown",
   "id": "91674cbd-cc28-4e1a-a973-176f004b1b50",
   "metadata": {},
   "source": [
    "## Things I tried that didn't improve performance (but in fact, made it worse):"
   ]
  },
  {
   "cell_type": "markdown",
   "id": "0dddd8f0-f2d3-4eb3-a2b8-469bbd8d21f9",
   "metadata": {},
   "source": [
    "I've noticed on the histograms that there are some outliers in the dataset. Since I didn't have time to remove them in a more precise manner, I opted to use an outlier removal method, but this did not improve the models (actually, it made them worse), so I opted not to use this for my final model. I think this comes down to LOF deleting ca. 10% of the dataset, which at this size is quite impactful."
   ]
  },
  {
   "cell_type": "code",
   "execution_count": 257,
   "id": "9e3fff80-bd03-4237-9430-fc35a293d1f7",
   "metadata": {},
   "outputs": [],
   "source": [
    "clf = LocalOutlierFactor(n_neighbors=20)\n",
    "y_pred = (clf.fit_predict(X))\n",
    "outliers = X[y_pred == -1] \n",
    "df = df[y_pred != -1]"
   ]
  },
  {
   "cell_type": "markdown",
   "id": "c3f07e66-65af-4e9b-97d8-c4aa127453b8",
   "metadata": {},
   "source": [
    "Since there was a class imbalance present, I also tried upsampling the underrepresented class. For this, I chose SMOTE. This also only made model performances worse, so I ended up not using it. Might be important to post-process the model if upsampling. Since the classifier will expect the relative class frequencies in operation to be the same as those in the training set meaning oversampling the minority class in the training set, the classifier is likely to over-predict that class in operational use. To combat this, post-processing the output of the classifier might be needed, so that it doesn't over-predict the minority class on the test set.\n",
    "\n"
   ]
  },
  {
   "cell_type": "code",
   "execution_count": 264,
   "id": "fcc9aae6-bac1-454e-b3ed-1e798fff22f7",
   "metadata": {},
   "outputs": [
    {
     "data": {
      "text/plain": [
       "0    518\n",
       "1    518\n",
       "Name: churn, dtype: int64"
      ]
     },
     "execution_count": 264,
     "metadata": {},
     "output_type": "execute_result"
    }
   ],
   "source": [
    "oversample = SMOTE()\n",
    "X_train, y_train = oversample.fit_resample(X_train, y_train)\n",
    "y_train.value_counts()"
   ]
  }
 ],
 "metadata": {
  "kernelspec": {
   "display_name": "Python 3",
   "language": "python",
   "name": "python3"
  },
  "language_info": {
   "codemirror_mode": {
    "name": "ipython",
    "version": 3
   },
   "file_extension": ".py",
   "mimetype": "text/x-python",
   "name": "python",
   "nbconvert_exporter": "python",
   "pygments_lexer": "ipython3",
   "version": "3.7.9"
  }
 },
 "nbformat": 4,
 "nbformat_minor": 5
}
