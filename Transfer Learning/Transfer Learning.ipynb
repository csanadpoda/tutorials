{
 "cells": [
  {
   "cell_type": "markdown",
   "metadata": {},
   "source": [
    "# Transfer Learning with Keras\n",
    "\n",
    "In this tutorial we'll look at how to utilize Keras and a pretrained model to predict a custom object. This is useful for when you don't want (or don't have the possibility/time) to train a model from scratch and you have a problem that is similar to one with an already existing solution.\n",
    "\n",
    "The following code is a complete solution from loading a train set to creating train and validation set generators to predicting and checking performance.\n",
    "\n",
    "We will load an existing model into Keras, remove its final layer and train it on our custom dataset to get image predictions without creating and training a whole network within minutes!"
   ]
  },
  {
   "cell_type": "markdown",
   "metadata": {},
   "source": [
    "You might need to modify some path variables and your results might not completely match mine due to how training neural nets work, but if you have Keras installed, it should work!"
   ]
  },
  {
   "cell_type": "markdown",
   "metadata": {},
   "source": [
    "First let's load the packages we're going to need:"
   ]
  },
  {
   "cell_type": "code",
   "execution_count": 1,
   "metadata": {
    "scrolled": true
   },
   "outputs": [
    {
     "name": "stderr",
     "output_type": "stream",
     "text": [
      "Using TensorFlow backend.\n"
     ]
    }
   ],
   "source": [
    "import os\n",
    "import numpy as np\n",
    "from numpy.random import permutation\n",
    "from sklearn.model_selection import train_test_split\n",
    "import matplotlib.pyplot as plt\n",
    "\n",
    "from keras.applications.vgg19 import VGG19\n",
    "from keras.preprocessing import image\n",
    "from keras.applications.vgg19 import preprocess_input\n",
    "from keras.models import Model\n",
    "from keras.callbacks import ModelCheckpoint, EarlyStopping, ReduceLROnPlateau\n",
    "from keras.layers import Input, Lambda, Dense\n",
    "from keras.models import load_model, Model\n",
    "from keras.preprocessing.image import ImageDataGenerator\n",
    "from keras import optimizers"
   ]
  },
  {
   "cell_type": "markdown",
   "metadata": {},
   "source": [
    "We're going to use 2 helper functions, read an image into a neural net-friendly format and another one to do this for all images in a folder. We're going to stick to the default resolution of the VGG19 model for ease. Thankfully we have the helper function `preprocess_input` available to us, preparing the input to be compatible with Keras/VGG19."
   ]
  },
  {
   "cell_type": "code",
   "execution_count": 2,
   "metadata": {},
   "outputs": [],
   "source": [
    "def process_image(img_path, expand_dims = False, target_size=(224, 224)):\n",
    "    img = image.load_img(img_path, target_size)\n",
    "    x = image.img_to_array(img)\n",
    "    if expand_dims == True: \n",
    "        x = np.expand_dims(x, axis=0)\n",
    "    x = preprocess_input(x)\n",
    "    return x"
   ]
  },
  {
   "cell_type": "code",
   "execution_count": 3,
   "metadata": {},
   "outputs": [],
   "source": [
    "def parse_images(category, target_size, path = \"./\"):\n",
    "    images = []\n",
    "    i = 0\n",
    "    for file in sorted(os.listdir(path+category)):\n",
    "        if file[0] != \".\":\n",
    "            img_path = path+category+\"/\"+file\n",
    "            x = process_image(img_path, target_size)\n",
    "            images.append(x)\n",
    "    images = np.asarray(images)\n",
    "    return images\n"
   ]
  },
  {
   "cell_type": "code",
   "execution_count": 293,
   "metadata": {},
   "outputs": [],
   "source": [
    "def process_image(image_path):\n",
    "    img = image.load_img(img_path, target_size=(224, 224))\n",
    "    x = image.img_to_array(img)\n",
    "    x = np.expand_dims(x, axis=0)\n",
    "    x = preprocess_input(x)\n",
    "    return x"
   ]
  },
   "cell_type": "markdown",
   "metadata": {},
   "source": [
    "I gathered 10 random images of cats and 10 random images of lightbulbs off Google. Some examples are: \n",
    "\n",
    "|Cat 1 |Cat 2|\n",
    "|---|----|\n",
    "|![download.jpeg](attachment:cats/cat1.jpeg)|![Cornish%20Rex%20Cat1.jpg](attachment:cats/cat2.jpg)|\n",
    "\n",
    "|Lightbulb 1 |Lightbulb 2 |\n",
    "|---|----|\n",
    "|![e7617f1414cf46e39b8ba9b9009c7b29.jpeg](attachment:e7617f1414cf46e39b8ba9b9009c7b29.jpeg)|![./s.jpeg](attachment:./s.jpeg)|\n",
    "\n",
    "The original VGG19 model was trained to predict 1000 categories (in accordance with the [ImageNet Challenge](http://image-net.org/challenges/LSVRC/)) including cats, but we're going to utilise transfer learning to modify it and predict 2 categories: cats and lightbulbs. While cats are a part of the original 1000 categories, lightbulbs are not. With the power of transfer learning, however, we are able to introduce and reliably predict new categories based on this pretrained model.\n",
    "\n",
    "Let's start with reading the images into Python variables!"
   ]
  },
  {
   "cell_type": "code",
   "execution_count": 4,
   "metadata": {},
   "outputs": [],
   "source": [
    "target_size = (224,224)"
   ]
  },
  {
   "cell_type": "code",
   "execution_count": 5,
   "metadata": {},
   "outputs": [],
   "source": [
    "cats = parse_images(\"cats\", target_size)\n",
    "bulbs = parse_images(\"lightbulbs\", target_size)"
   ]
  },
  {
   "cell_type": "markdown",
   "metadata": {},
   "source": [
    "We're marking cats as category 0 and bulbs as category 1, and then combining the images and the categories into a single variable each:"
   ]
  },
  {
   "cell_type": "code",
   "execution_count": 6,
   "metadata": {},
   "outputs": [],
   "source": [
    "cats_y = np.zeros((len(cats)))\n",
    "bulbs_y = np.ones((len(cats)))\n",
    "\n",
    "X = np.vstack((cats, bulbs))\n",
    "y = np.concatenate((cats_y, bulbs_y))"
   ]
  },
  {
   "cell_type": "code",
   "execution_count": 7,
   "metadata": {},
   "outputs": [
    {
     "data": {
      "text/plain": [
       "(20, 224, 224, 3)"
      ]
     },
     "execution_count": 7,
     "metadata": {},
     "output_type": "execute_result"
    }
   ],
   "source": [
    "np.shape(X)"
   ]
  },
  {
   "cell_type": "markdown",
   "metadata": {},
   "source": [
    "Now our input `X` has the shape of (20, 224, 224, 3) - we have 20 images, all with the resolution of 224x224 and 3 channels each (RGB color coding)."
   ]
  },
  {
   "cell_type": "markdown",
   "metadata": {},
   "source": [
    "The target variables (the classes) for the VGG19 model have to be [one-hot encoded](https://hackernoon.com/what-is-one-hot-encoding-why-and-when-do-you-have-to-use-it-e3c6186d008f), so let's transform our `y`!"
   ]
  },
  {
   "cell_type": "code",
   "execution_count": 8,
   "metadata": {
    "scrolled": true
   },
   "outputs": [
    {
     "data": {
      "text/plain": [
       "array([[1., 0.],\n",
       "       [1., 0.],\n",
       "       [1., 0.],\n",
       "       [1., 0.],\n",
       "       [1., 0.],\n",
       "       [1., 0.],\n",
       "       [1., 0.],\n",
       "       [1., 0.],\n",
       "       [1., 0.],\n",
       "       [1., 0.],\n",
       "       [0., 1.],\n",
       "       [0., 1.],\n",
       "       [0., 1.],\n",
       "       [0., 1.],\n",
       "       [0., 1.],\n",
       "       [0., 1.],\n",
       "       [0., 1.],\n",
       "       [0., 1.],\n",
       "       [0., 1.],\n",
       "       [0., 1.]])"
      ]
     },
     "execution_count": 8,
     "metadata": {},
     "output_type": "execute_result"
    }
   ],
   "source": [
    "train = np.zeros((len(y), 2))\n",
    "train[np.arange(len(y)), y.astype(int)] = 1\n",
    "y = train\n",
    "y"
   ]
  },
  {
   "cell_type": "markdown",
   "metadata": {},
   "source": [
    "Here, the first column ha the value 1 if the image is a cat and 0 if it isn't. The same applies to column 2 with the image being a lightbulb."
   ]
  },
  {
   "cell_type": "markdown",
   "metadata": {},
   "source": [
    "Let's shuffle the input:"
   ]
  },
  {
   "cell_type": "code",
   "execution_count": 9,
   "metadata": {},
   "outputs": [],
   "source": [
    "perm = permutation(len(y))\n",
    "X = X[perm]\n",
    "y = y[perm]"
   ]
  },
  {
   "cell_type": "markdown",
   "metadata": {},
   "source": [
    "Now we have the input in the format we require. Let's load the pre-trained VGG19 model! We are specifying that we want to use the trained model with the weights for the imagenet dataset. We could also load the model without weights initialized, but that would mean we'd need to retrain the whole model from scratch, and that's the opposite of what we're trying to do with transfer learning. You might get some warnings, but disregard them."
   ]
  },
  {
   "cell_type": "code",
   "execution_count": 10,
   "metadata": {},
   "outputs": [
    {
     "name": "stderr",
     "output_type": "stream",
     "text": [
      "WARNING: Logging before flag parsing goes to stderr.\n",
      "W0827 16:49:51.822905 140736037671808 deprecation_wrapper.py:119] From /Users/csanadpoda/anaconda3/lib/python3.7/site-packages/keras/backend/tensorflow_backend.py:74: The name tf.get_default_graph is deprecated. Please use tf.compat.v1.get_default_graph instead.\n",
      "\n",
      "W0827 16:49:51.852724 140736037671808 deprecation_wrapper.py:119] From /Users/csanadpoda/anaconda3/lib/python3.7/site-packages/keras/backend/tensorflow_backend.py:517: The name tf.placeholder is deprecated. Please use tf.compat.v1.placeholder instead.\n",
      "\n",
      "W0827 16:49:51.857797 140736037671808 deprecation_wrapper.py:119] From /Users/csanadpoda/anaconda3/lib/python3.7/site-packages/keras/backend/tensorflow_backend.py:4138: The name tf.random_uniform is deprecated. Please use tf.random.uniform instead.\n",
      "\n",
      "W0827 16:49:51.901552 140736037671808 deprecation_wrapper.py:119] From /Users/csanadpoda/anaconda3/lib/python3.7/site-packages/keras/backend/tensorflow_backend.py:3976: The name tf.nn.max_pool is deprecated. Please use tf.nn.max_pool2d instead.\n",
      "\n",
      "W0827 16:49:55.114920 140736037671808 deprecation_wrapper.py:119] From /Users/csanadpoda/anaconda3/lib/python3.7/site-packages/keras/backend/tensorflow_backend.py:174: The name tf.get_default_session is deprecated. Please use tf.compat.v1.get_default_session instead.\n",
      "\n",
      "W0827 16:49:55.116116 140736037671808 deprecation_wrapper.py:119] From /Users/csanadpoda/anaconda3/lib/python3.7/site-packages/keras/backend/tensorflow_backend.py:181: The name tf.ConfigProto is deprecated. Please use tf.compat.v1.ConfigProto instead.\n",
      "\n"
     ]
    }
   ],
   "source": [
    "vgg19_model = VGG19(include_top=True, weights='imagenet')\n"
   ]
  },
  {
   "cell_type": "markdown",
   "metadata": {},
   "source": [
    "We can use the following command to see the full architecture/summary of the model. As you can see, our final dense layer contains 1000 nodes to predict the 1000 categories. We're going to replace that one specifically and keep everything else."
   ]
  },
  {
   "cell_type": "code",
   "execution_count": 11,
   "metadata": {},
   "outputs": [
    {
     "name": "stdout",
     "output_type": "stream",
     "text": [
      "_________________________________________________________________\n",
      "Layer (type)                 Output Shape              Param #   \n",
      "=================================================================\n",
      "input_1 (InputLayer)         (None, 224, 224, 3)       0         \n",
      "_________________________________________________________________\n",
      "block1_conv1 (Conv2D)        (None, 224, 224, 64)      1792      \n",
      "_________________________________________________________________\n",
      "block1_conv2 (Conv2D)        (None, 224, 224, 64)      36928     \n",
      "_________________________________________________________________\n",
      "block1_pool (MaxPooling2D)   (None, 112, 112, 64)      0         \n",
      "_________________________________________________________________\n",
      "block2_conv1 (Conv2D)        (None, 112, 112, 128)     73856     \n",
      "_________________________________________________________________\n",
      "block2_conv2 (Conv2D)        (None, 112, 112, 128)     147584    \n",
      "_________________________________________________________________\n",
      "block2_pool (MaxPooling2D)   (None, 56, 56, 128)       0         \n",
      "_________________________________________________________________\n",
      "block3_conv1 (Conv2D)        (None, 56, 56, 256)       295168    \n",
      "_________________________________________________________________\n",
      "block3_conv2 (Conv2D)        (None, 56, 56, 256)       590080    \n",
      "_________________________________________________________________\n",
      "block3_conv3 (Conv2D)        (None, 56, 56, 256)       590080    \n",
      "_________________________________________________________________\n",
      "block3_conv4 (Conv2D)        (None, 56, 56, 256)       590080    \n",
      "_________________________________________________________________\n",
      "block3_pool (MaxPooling2D)   (None, 28, 28, 256)       0         \n",
      "_________________________________________________________________\n",
      "block4_conv1 (Conv2D)        (None, 28, 28, 512)       1180160   \n",
      "_________________________________________________________________\n",
      "block4_conv2 (Conv2D)        (None, 28, 28, 512)       2359808   \n",
      "_________________________________________________________________\n",
      "block4_conv3 (Conv2D)        (None, 28, 28, 512)       2359808   \n",
      "_________________________________________________________________\n",
      "block4_conv4 (Conv2D)        (None, 28, 28, 512)       2359808   \n",
      "_________________________________________________________________\n",
      "block4_pool (MaxPooling2D)   (None, 14, 14, 512)       0         \n",
      "_________________________________________________________________\n",
      "block5_conv1 (Conv2D)        (None, 14, 14, 512)       2359808   \n",
      "_________________________________________________________________\n",
      "block5_conv2 (Conv2D)        (None, 14, 14, 512)       2359808   \n",
      "_________________________________________________________________\n",
      "block5_conv3 (Conv2D)        (None, 14, 14, 512)       2359808   \n",
      "_________________________________________________________________\n",
      "block5_conv4 (Conv2D)        (None, 14, 14, 512)       2359808   \n",
      "_________________________________________________________________\n",
      "block5_pool (MaxPooling2D)   (None, 7, 7, 512)         0         \n",
      "_________________________________________________________________\n",
      "flatten (Flatten)            (None, 25088)             0         \n",
      "_________________________________________________________________\n",
      "fc1 (Dense)                  (None, 4096)              102764544 \n",
      "_________________________________________________________________\n",
      "fc2 (Dense)                  (None, 4096)              16781312  \n",
      "_________________________________________________________________\n",
      "predictions (Dense)          (None, 1000)              4097000   \n",
      "=================================================================\n",
      "Total params: 143,667,240\n",
      "Trainable params: 143,667,240\n",
      "Non-trainable params: 0\n",
      "_________________________________________________________________\n"
     ]
    }
   ],
   "source": [
    "vgg19_model.summary()"
   ]
  },
  {
   "cell_type": "markdown",
   "metadata": {},
   "source": [
    "Here we're removing the final layer (alternatively you could load the model without this final layer by using `include_top=False`, I just wanted you to see the full original architecture of the network). We then create a new dense laayer with 2 nodes (for our two categories: cats and lightbulbs) and specify the inputs and outputs for our new custom model. Then we check the summary: we can see that the architecture is completely the same except for the final layer (the one responsible for predictions)."
   ]
  },
  {
   "cell_type": "code",
   "execution_count": 12,
   "metadata": {},
   "outputs": [
    {
     "name": "stdout",
     "output_type": "stream",
     "text": [
      "_________________________________________________________________\n",
      "Layer (type)                 Output Shape              Param #   \n",
      "=================================================================\n",
      "input_1 (InputLayer)         (None, 224, 224, 3)       0         \n",
      "_________________________________________________________________\n",
      "block1_conv1 (Conv2D)        (None, 224, 224, 64)      1792      \n",
      "_________________________________________________________________\n",
      "block1_conv2 (Conv2D)        (None, 224, 224, 64)      36928     \n",
      "_________________________________________________________________\n",
      "block1_pool (MaxPooling2D)   (None, 112, 112, 64)      0         \n",
      "_________________________________________________________________\n",
      "block2_conv1 (Conv2D)        (None, 112, 112, 128)     73856     \n",
      "_________________________________________________________________\n",
      "block2_conv2 (Conv2D)        (None, 112, 112, 128)     147584    \n",
      "_________________________________________________________________\n",
      "block2_pool (MaxPooling2D)   (None, 56, 56, 128)       0         \n",
      "_________________________________________________________________\n",
      "block3_conv1 (Conv2D)        (None, 56, 56, 256)       295168    \n",
      "_________________________________________________________________\n",
      "block3_conv2 (Conv2D)        (None, 56, 56, 256)       590080    \n",
      "_________________________________________________________________\n",
      "block3_conv3 (Conv2D)        (None, 56, 56, 256)       590080    \n",
      "_________________________________________________________________\n",
      "block3_conv4 (Conv2D)        (None, 56, 56, 256)       590080    \n",
      "_________________________________________________________________\n",
      "block3_pool (MaxPooling2D)   (None, 28, 28, 256)       0         \n",
      "_________________________________________________________________\n",
      "block4_conv1 (Conv2D)        (None, 28, 28, 512)       1180160   \n",
      "_________________________________________________________________\n",
      "block4_conv2 (Conv2D)        (None, 28, 28, 512)       2359808   \n",
      "_________________________________________________________________\n",
      "block4_conv3 (Conv2D)        (None, 28, 28, 512)       2359808   \n",
      "_________________________________________________________________\n",
      "block4_conv4 (Conv2D)        (None, 28, 28, 512)       2359808   \n",
      "_________________________________________________________________\n",
      "block4_pool (MaxPooling2D)   (None, 14, 14, 512)       0         \n",
      "_________________________________________________________________\n",
      "block5_conv1 (Conv2D)        (None, 14, 14, 512)       2359808   \n",
      "_________________________________________________________________\n",
      "block5_conv2 (Conv2D)        (None, 14, 14, 512)       2359808   \n",
      "_________________________________________________________________\n",
      "block5_conv3 (Conv2D)        (None, 14, 14, 512)       2359808   \n",
      "_________________________________________________________________\n",
      "block5_conv4 (Conv2D)        (None, 14, 14, 512)       2359808   \n",
      "_________________________________________________________________\n",
      "block5_pool (MaxPooling2D)   (None, 7, 7, 512)         0         \n",
      "_________________________________________________________________\n",
      "flatten (Flatten)            (None, 25088)             0         \n",
      "_________________________________________________________________\n",
      "fc1 (Dense)                  (None, 4096)              102764544 \n",
      "_________________________________________________________________\n",
      "fc2 (Dense)                  (None, 4096)              16781312  \n",
      "_________________________________________________________________\n",
      "predictions (Dense)          (None, 2)                 8194      \n",
      "=================================================================\n",
      "Total params: 139,578,434\n",
      "Trainable params: 139,578,434\n",
      "Non-trainable params: 0\n",
      "_________________________________________________________________\n"
     ]
    }
   ],
   "source": [
    "vgg19_model.layers.pop()\n",
    "new_layer = Dense(2, activation='softmax', name='predictions')\n",
    "inp = vgg19_model.input\n",
    "out = new_layer(vgg19_model.layers[-1].output)\n",
    "\n",
    "model = Model(inp, out)\n",
    "model.summary()"
   ]
  },
  {
   "cell_type": "markdown",
   "metadata": {},
   "source": [
    "All the layers and all the parameters are trainable by default, so we need to freeze all the layers except the last one, since we already have the trained weights for those. This is the main idea behind transfer learning: we keep the pretrained model as we believe it is already very good at extracting the features that are important for (image category) prediction, and we just insert and train our own final layer to predict our desired categories based on the features the pre-trained network already extracts."
   ]
  },
  {
   "cell_type": "code",
   "execution_count": 13,
   "metadata": {},
   "outputs": [
    {
     "name": "stdout",
     "output_type": "stream",
     "text": [
      "<keras.engine.input_layer.InputLayer object at 0x1a2cb68748> False\n",
      "<keras.layers.convolutional.Conv2D object at 0x1a2cb53278> False\n",
      "<keras.layers.convolutional.Conv2D object at 0x1a2cabfa20> False\n",
      "<keras.layers.pooling.MaxPooling2D object at 0x1a2cb68b38> False\n",
      "<keras.layers.convolutional.Conv2D object at 0x1a2f61e6a0> False\n",
      "<keras.layers.convolutional.Conv2D object at 0x1a2f649fd0> False\n",
      "<keras.layers.pooling.MaxPooling2D object at 0x1a2f661f28> False\n",
      "<keras.layers.convolutional.Conv2D object at 0x1a2f661c18> False\n",
      "<keras.layers.convolutional.Conv2D object at 0x1a2f6924a8> False\n",
      "<keras.layers.convolutional.Conv2D object at 0x1a2f6aecf8> False\n",
      "<keras.layers.convolutional.Conv2D object at 0x1a2f6e3630> False\n",
      "<keras.layers.pooling.MaxPooling2D object at 0x1a2f6ffb38> False\n",
      "<keras.layers.convolutional.Conv2D object at 0x1a2f6ff828> False\n",
      "<keras.layers.convolutional.Conv2D object at 0x1a2f72e710> False\n",
      "<keras.layers.convolutional.Conv2D object at 0x1a2f746e48> False\n",
      "<keras.layers.convolutional.Conv2D object at 0x1a2f760eb8> False\n",
      "<keras.layers.pooling.MaxPooling2D object at 0x1a2f7986d8> False\n",
      "<keras.layers.convolutional.Conv2D object at 0x1a2f778c18> False\n",
      "<keras.layers.convolutional.Conv2D object at 0x1a2f7b4c88> False\n",
      "<keras.layers.convolutional.Conv2D object at 0x1a2f7c9f60> False\n",
      "<keras.layers.convolutional.Conv2D object at 0x1a2f7dcd68> False\n",
      "<keras.layers.pooling.MaxPooling2D object at 0x1a2f813d30> False\n",
      "<keras.layers.core.Flatten object at 0x1a2f813ac8> False\n",
      "<keras.layers.core.Dense object at 0x1a2f8489b0> False\n",
      "<keras.layers.core.Dense object at 0x1a2f864780> False\n",
      "<keras.layers.core.Dense object at 0x1a510ca278> True\n"
     ]
    }
   ],
   "source": [
    "for layer in model.layers[:-1]:\n",
    "    layer.trainable = False\n",
    "    \n",
    "# Check the trainable status of the individual layers\n",
    "for layer in model.layers:\n",
    "    print(layer, layer.trainable)"
   ]
  },
  {
   "cell_type": "markdown",
   "metadata": {},
   "source": [
    "We can see that all the layers are now frozen, so when we're trainings the weights won't get updated, except for the last one."
   ]
  },
  {
   "cell_type": "code",
   "execution_count": 14,
   "metadata": {},
   "outputs": [
    {
     "name": "stdout",
     "output_type": "stream",
     "text": [
      "_________________________________________________________________\n",
      "Layer (type)                 Output Shape              Param #   \n",
      "=================================================================\n",
      "input_1 (InputLayer)         (None, 224, 224, 3)       0         \n",
      "_________________________________________________________________\n",
      "block1_conv1 (Conv2D)        (None, 224, 224, 64)      1792      \n",
      "_________________________________________________________________\n",
      "block1_conv2 (Conv2D)        (None, 224, 224, 64)      36928     \n",
      "_________________________________________________________________\n",
      "block1_pool (MaxPooling2D)   (None, 112, 112, 64)      0         \n",
      "_________________________________________________________________\n",
      "block2_conv1 (Conv2D)        (None, 112, 112, 128)     73856     \n",
      "_________________________________________________________________\n",
      "block2_conv2 (Conv2D)        (None, 112, 112, 128)     147584    \n",
      "_________________________________________________________________\n",
      "block2_pool (MaxPooling2D)   (None, 56, 56, 128)       0         \n",
      "_________________________________________________________________\n",
      "block3_conv1 (Conv2D)        (None, 56, 56, 256)       295168    \n",
      "_________________________________________________________________\n",
      "block3_conv2 (Conv2D)        (None, 56, 56, 256)       590080    \n",
      "_________________________________________________________________\n",
      "block3_conv3 (Conv2D)        (None, 56, 56, 256)       590080    \n",
      "_________________________________________________________________\n",
      "block3_conv4 (Conv2D)        (None, 56, 56, 256)       590080    \n",
      "_________________________________________________________________\n",
      "block3_pool (MaxPooling2D)   (None, 28, 28, 256)       0         \n",
      "_________________________________________________________________\n",
      "block4_conv1 (Conv2D)        (None, 28, 28, 512)       1180160   \n",
      "_________________________________________________________________\n",
      "block4_conv2 (Conv2D)        (None, 28, 28, 512)       2359808   \n",
      "_________________________________________________________________\n",
      "block4_conv3 (Conv2D)        (None, 28, 28, 512)       2359808   \n",
      "_________________________________________________________________\n",
      "block4_conv4 (Conv2D)        (None, 28, 28, 512)       2359808   \n",
      "_________________________________________________________________\n",
      "block4_pool (MaxPooling2D)   (None, 14, 14, 512)       0         \n",
      "_________________________________________________________________\n",
      "block5_conv1 (Conv2D)        (None, 14, 14, 512)       2359808   \n",
      "_________________________________________________________________\n",
      "block5_conv2 (Conv2D)        (None, 14, 14, 512)       2359808   \n",
      "_________________________________________________________________\n",
      "block5_conv3 (Conv2D)        (None, 14, 14, 512)       2359808   \n",
      "_________________________________________________________________\n",
      "block5_conv4 (Conv2D)        (None, 14, 14, 512)       2359808   \n",
      "_________________________________________________________________\n",
      "block5_pool (MaxPooling2D)   (None, 7, 7, 512)         0         \n",
      "_________________________________________________________________\n",
      "flatten (Flatten)            (None, 25088)             0         \n",
      "_________________________________________________________________\n",
      "fc1 (Dense)                  (None, 4096)              102764544 \n",
      "_________________________________________________________________\n",
      "fc2 (Dense)                  (None, 4096)              16781312  \n",
      "_________________________________________________________________\n",
      "predictions (Dense)          (None, 2)                 8194      \n",
      "=================================================================\n",
      "Total params: 139,578,434\n",
      "Trainable params: 8,194\n",
      "Non-trainable params: 139,570,240\n",
      "_________________________________________________________________\n"
     ]
    }
   ],
   "source": [
    "model.summary()"
   ]
  },
  {
   "cell_type": "markdown",
   "metadata": {},
   "source": [
    "As you can see, out of the total 139,578,434 parameters we're only going to train 8,194 and *still* get great results - and training less parameters means less computing power needed and less time spent training! \n",
    "\n",
    "Let's split our dataset into train and test sets:"
   ]
  },
  {
   "cell_type": "code",
   "execution_count": 26,
   "metadata": {},
   "outputs": [],
   "source": [
    "X_train, X_test, y_train, y_test = train_test_split(\n",
    "    X, y, test_size=0.33, random_state=42)"
   ]
  },
  {
   "cell_type": "markdown",
   "metadata": {},
   "source": [
    "Since we only have a tiny dataset, it's recommended we use image data generators. This allows us to have a greater dataset - these generators take our existing dataset but apply a range of transformations to our images (rotate them, shift the width and/or height, flip them horizontally), so we get a bigger train/test set that we can feed to the neural net which thus becomes more robust."
   ]
  },
  {
   "cell_type": "code",
   "execution_count": 16,
   "metadata": {},
   "outputs": [],
   "source": [
    "train_datagen = ImageDataGenerator(\n",
    "      rotation_range=20,\n",
    "      width_shift_range=0.2,\n",
    "      height_shift_range=0.2,\n",
    "      horizontal_flip=True,\n",
    "      fill_mode='nearest')\n",
    " \n",
    "validation_datagen = ImageDataGenerator()\n",
    " \n",
    "train_generator = train_datagen.flow(\n",
    "        X_train,\n",
    "        y_train,\n",
    "        batch_size=4)\n",
    "\n",
    "validation_generator = validation_datagen.flow(\n",
    "        X_test,\n",
    "        y_test,\n",
    "        shuffle=False)"
   ]
  },
  {
   "cell_type": "markdown",
   "metadata": {},
   "source": [
    "We are also going to add some callback functions, so we can stop the training early in case we reach a good enough model or can't improve the model anymore. \n",
    "With `EarlyStopping` we monitor the loss and we will stop training if the loss doesn't improve.\n",
    "With `ReduceLROnPlateau` we reduce the learning rate if the model cannot improve anymore with the current learning rate.\n",
    "With `ModelCheckpoint` we create a checkpoint for the model and save it anytime the model performs better than in the previous epoch."
   ]
  },
  {
   "cell_type": "code",
   "execution_count": 17,
   "metadata": {},
   "outputs": [
    {
     "name": "stderr",
     "output_type": "stream",
     "text": [
      "W0827 16:50:20.204329 140736037671808 deprecation_wrapper.py:119] From /Users/csanadpoda/anaconda3/lib/python3.7/site-packages/keras/optimizers.py:790: The name tf.train.Optimizer is deprecated. Please use tf.compat.v1.train.Optimizer instead.\n",
      "\n"
     ]
    },
    {
     "name": "stdout",
     "output_type": "stream",
     "text": [
      "Epoch 1/100\n",
      "4/3 [====================================] - 6s 2s/step - loss: 0.2869 - acc: 0.6077 - ce: 0.9539\n",
      "\n",
      "Epoch 00001: loss improved from inf to 0.31469, saving model to trained_model.h5\n",
      "Epoch 2/100\n",
      "4/3 [====================================] - 6s 1s/step - loss: 0.0325 - acc: 0.9346 - ce: 0.1014\n",
      "\n",
      "Epoch 00002: loss improved from 0.31469 to 0.03827, saving model to trained_model.h5\n",
      "Epoch 3/100\n",
      "4/3 [====================================] - 6s 2s/step - loss: 1.5437e-06 - acc: 1.0000 - ce: 6.4574e-04\n",
      "\n",
      "Epoch 00003: loss improved from 0.03827 to 0.00000, saving model to trained_model.h5\n",
      "Epoch 4/100\n",
      "4/3 [====================================] - 5s 1s/step - loss: 3.4533e-06 - acc: 1.0000 - ce: 0.0010\n",
      "\n",
      "Epoch 00004: loss improved from 0.00000 to 0.00000, saving model to trained_model.h5\n",
      "Epoch 5/100\n",
      "4/3 [====================================] - 5s 1s/step - loss: 4.5189e-07 - acc: 1.0000 - ce: 2.8087e-04\n",
      "\n",
      "Epoch 00005: ReduceLROnPlateau reducing learning rate to 0.00010000000474974513.\n",
      "\n",
      "Epoch 00005: loss improved from 0.00000 to 0.00000, saving model to trained_model.h5\n",
      "Epoch 6/100\n",
      "4/3 [====================================] - 5s 1s/step - loss: 1.1277e-06 - acc: 1.0000 - ce: 6.0108e-04\n",
      "\n",
      "Epoch 00006: loss improved from 0.00000 to 0.00000, saving model to trained_model.h5\n",
      "Epoch 7/100\n",
      "4/3 [====================================] - 7s 2s/step - loss: 1.0020e-06 - acc: 1.0000 - ce: 4.4036e-04\n",
      "\n",
      "Epoch 00007: ReduceLROnPlateau reducing learning rate to 1.0000000474974514e-05.\n",
      "\n",
      "Epoch 00007: loss did not improve from 0.00000\n",
      "Epoch 8/100\n",
      "4/3 [====================================] - 6s 2s/step - loss: 1.0136e-05 - acc: 1.0000 - ce: 0.0018\n",
      "\n",
      "Epoch 00008: loss did not improve from 0.00000\n",
      "Epoch 00008: early stopping\n"
     ]
    }
   ],
   "source": [
    "early_stop = EarlyStopping(monitor='loss', min_delta=0.0001, patience=5, verbose=1, mode='auto')\n",
    "# Reducing the Learning Rate if result is not improving. \n",
    "reduce_lr  = ReduceLROnPlateau(monitor='loss',  min_delta=0.0004, patience=2, factor=0.1, min_lr=1e-6,  mode='auto', verbose=1)\n",
    "\n",
    "# define the checkpoint\n",
    "model.compile(loss='mean_squared_error',\n",
    "              optimizer=optimizers.Adam(lr=.001, beta_1=0.9, beta_2=0.999, epsilon=0.0000001),\n",
    "              metrics=['acc', 'ce'])\n",
    "\n",
    "filepath = \"trained_model.h5\"\n",
    "checkpoint = ModelCheckpoint(filepath, monitor='loss', verbose=1, save_best_only=True, mode='min')\n",
    "callbacks_list = [early_stop, reduce_lr, checkpoint]\n",
    "\n",
    "# fit the model\n",
    "history = model.fit_generator(train_generator, epochs=100, steps_per_epoch=len(X_train) / 4, callbacks=callbacks_list)\n"
   ]
  },
  {
   "cell_type": "markdown",
   "metadata": {},
   "source": [
    "Hopefully the training stopped for you after a few epochs just like it stopped for me as the loss could not improve anymore (it reached 0 - this is rarely the case and can signal overfitting in general, keep in mind this is just a demo/tutorial and we're using very few examples - this might impact performance). "
   ]
  },
  {
   "cell_type": "markdown",
   "metadata": {},
   "source": [
    "The following line is just so that the output is not printed in the scientific notation for easier reading. You can disregard it."
   ]
  },
  {
   "cell_type": "code",
   "execution_count": 18,
   "metadata": {},
   "outputs": [],
   "source": [
    "np.set_printoptions(formatter={'float_kind':'{:f}'.format})"
   ]
  },
  {
   "cell_type": "markdown",
   "metadata": {},
   "source": [
    "Now that we have a model saved, we can load it back with the following line:"
   ]
  },
  {
   "cell_type": "code",
   "execution_count": 19,
   "metadata": {},
   "outputs": [],
   "source": [
    "saved_model = load_model(\"trained_model.h5\")"
   ]
  },
  {
   "attachments": {
    "cat.jpg": {
     "image/jpeg": "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"
    },
    "lightbulb.jpg": {
     "image/jpeg": "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"
    }
   },
   "cell_type": "markdown",
   "metadata": {},
   "source": [
    "Let's try and see how it works on new pictures not in the original dataset! I have a new picture of a cat and a lighbulb:\n",
    "\n",
    "|New cat|New lightbulb|\n",
    "|---|----|\n",
    "|![cat.jpg](attachment:cat.jpg)|![lightbulb.jpg](attachment:lightbulb.jpg)|\n"
   ]
  },
  {
   "cell_type": "code",
   "execution_count": 27,
   "metadata": {},
   "outputs": [
    {
     "data": {
      "text/plain": [
       "array([[1.000000, 0.000000]], dtype=float32)"
      ]
     },
     "execution_count": 27,
     "metadata": {},
     "output_type": "execute_result"
    }
   ],
   "source": [
    "img_path = './cat.jpg'\n",
    "x = process_image(img_path, expand_dims=True)\n",
    "\n",
    "features = saved_model.predict(x)\n",
    "features"
   ]
  },
  {
   "cell_type": "code",
   "execution_count": 28,
   "metadata": {},
   "outputs": [
    {
     "data": {
      "text/plain": [
       "array([[0.001216, 0.998784]], dtype=float32)"
      ]
     },
     "execution_count": 28,
     "metadata": {},
     "output_type": "execute_result"
    }
   ],
   "source": [
    "img_path = './lightbulb.jpg'\n",
    "x = process_image(img_path, expand_dims=True)\n",
    "\n",
    "features = saved_model.predict(x)\n",
    "features"
   ]
  },
  {
   "cell_type": "markdown",
   "metadata": {},
   "source": [
    "Remember how the first column being equal to 1 meant that there's a cat in the picture, and the second column being equal to 1 meant that there's a lightbulb in the picture? The algorithm returns probabilities for each of the classes. For the cat image we can see it was more than 95% sure that there's a cat in the picture and less than 5% sure it was a lightbulb and vice versa for the lightbulb, meaning both of the predictions were correct. We can also use the validation generator to generate multiple images from our test set to make predictions on:"
   ]
  },
  {
   "cell_type": "code",
   "execution_count": 24,
   "metadata": {},
   "outputs": [],
   "source": [
    "preds = model.predict_generator(validation_generator, steps=1)"
   ]
  },
  {
   "cell_type": "markdown",
   "metadata": {},
   "source": [
    "But what's more important, we can use the validation generator to evaluate our model. Remember, the validation generator returns pictures (and slightly modified version of the pictures) that the neural net hasn't seen before!"
   ]
  },
  {
   "cell_type": "code",
   "execution_count": 29,
   "metadata": {},
   "outputs": [
    {
     "data": {
      "text/plain": [
       "(0.001838433789089322, 1.0, 0.018193300813436508)"
      ]
     },
     "execution_count": 29,
     "metadata": {},
     "output_type": "execute_result"
    }
   ],
   "source": [
    "loss, acc, ce = model.evaluate_generator(validation_generator, steps=5, verbose=0)\n",
    "loss, acc, ce"
   ]
  },
  {
   "cell_type": "markdown",
   "metadata": {},
   "source": [
    "We can see that the loss for the model is tiny while the accuracy is high, meaning the model performs pretty well on our test set, too! "
   ]
  },
  {
   "attachments": {
    "lightbullb.jpeg": {
     "image/jpeg": "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"
    }
   },
   "cell_type": "markdown",
   "metadata": {},
   "source": [
    "Thus, you can see the power of transfer learning - with just 10 images per category we've been able to train an algorithm that can reliably predict if there's a cat or a lightbulb in the picture within a few seconds! Do note that this data set is super small and all the pictures are quite similar, and the performance should get worse with more complex tasks, but still you can see how much faster and more efficient transfer learning can be as opposed to training from scratch!\n",
    "\n",
    "Keep in mind our example set is quite homogenous (all lighbulbs are presented on their own on a white background), so the algorithm has a harder time predicting different pictures of lightbulbs. For example, this picture of a lighbulb on a black background already poses a bigger challenge to the model:\n",
    "![lightbullb.jpeg](attachment:lightbullb.jpeg)"
   ]
  },
  {
   "cell_type": "code",
   "execution_count": 31,
   "metadata": {},
   "outputs": [
    {
     "data": {
      "text/plain": [
       "array([[0.316792, 0.683208]], dtype=float32)"
      ]
     },
     "execution_count": 31,
     "metadata": {},
     "output_type": "execute_result"
    }
   ],
   "source": [
    "img_path = './lightbullb.jpeg'\n",
    "x = process_image(img_path, expand_dims=True)\n",
    "\n",
    "features = saved_model.predict(x)\n",
    "features"
   ]
  },
  {
   "cell_type": "markdown",
   "metadata": {},
   "source": [
    "As you can see, the algorithm in this case is \"only\" 68% (in my case - your model can differ) sure that this is a lightbulb and gives it a 31% chance that it's actually a cat. It still gives the right prediction, so that's quite impressive!"
   ]
  },
  {
   "cell_type": "markdown",
   "metadata": {},
   "source": [
    "Now that you have the basics, go and experiment! Add more pictures, add more classes, go crazy!\n",
    "\n",
    "If you have any feedback or questions about this tutorial, feel free to reach out to me via [LinkedIn](https://www.linkedin.com/in/csanad-poda)! Happy learning!"
   ]
  }
 ],
 "metadata": {
  "kernelspec": {
   "display_name": "Python 3",
   "language": "python",
   "name": "python3"
  },
  "language_info": {
   "codemirror_mode": {
    "name": "ipython",
    "version": 3
   },
   "file_extension": ".py",
   "mimetype": "text/x-python",
   "name": "python",
   "nbconvert_exporter": "python",
   "pygments_lexer": "ipython3",
   "version": "3.7.3"
  }
 },
 "nbformat": 4,
 "nbformat_minor": 2
}
